{
  "nbformat": 4,
  "nbformat_minor": 0,
  "metadata": {
    "colab": {
      "provenance": [],
      "include_colab_link": true
    },
    "kernelspec": {
      "name": "python3",
      "display_name": "Python 3"
    },
    "language_info": {
      "name": "python"
    }
  },
  "cells": [
    {
      "cell_type": "markdown",
      "metadata": {
        "id": "view-in-github",
        "colab_type": "text"
      },
      "source": [
        "<a href=\"https://colab.research.google.com/github/ctrlvee/Beats-by-Dre-Consumer-Insights/blob/main/Beats_by_Dre_Consumer_Insights_Capstone_Project.ipynb\" target=\"_parent\"><img src=\"https://colab.research.google.com/assets/colab-badge.svg\" alt=\"Open In Colab\"/></a>"
      ]
    },
    {
      "cell_type": "markdown",
      "source": [
        "# Capstone Project: Consumer Insights Data Analytics Externship of Beats by Dre"
      ],
      "metadata": {
        "id": "IydAmVbUe5No"
      }
    },
    {
      "cell_type": "markdown",
      "source": [
        "## 1. Title Page\n",
        "**Project Title:** Consumer Insights Data Analytics Externship of Beats by Dre  \n",
        "**Student Name:** Ferdinand Virtudes  \n",
        "**Date:** June 29 2024 to September 2, 2024"
      ],
      "metadata": {
        "id": "9NNnXrCxfZm5"
      }
    },
    {
      "cell_type": "markdown",
      "source": [
        "## 2. Table of Contents\n",
        "1. Introduction\n",
        "2. Data Description\n",
        "3. Exploratory Data Analysis (EDA)\n",
        "4. Sentiment Analysis\n",
        "5. AI-Generated Insights\n",
        "6. Comparative Analysis\n",
        "7. Strategic Recommendations\n",
        "8. Conclusion\n",
        "9. References"
      ],
      "metadata": {
        "id": "EcaUG1uyfeiS"
      }
    },
    {
      "cell_type": "markdown",
      "source": [
        "## 3. Introduction\n",
        "\n",
        "### 3.1 Project Overview\n",
        "Briefly describe the purpose of the project and outline the key objectives."
      ],
      "metadata": {
        "id": "jbYdV2Rbf0AD"
      }
    },
    {
      "cell_type": "markdown",
      "source": [
        "The purpose of this project is to collaborate with Beats by Dr. Dre to provide consumer insights that strengthen product development and refine strategy. Using tools like Python, EDA, sentiment analysis, and AI, the project focuses on data-driven decision-making to enhance business outcomes.\n",
        "\n",
        "\n",
        "Key Objectives:\n",
        "\n",
        "*   Gather and Clean Data: Collect relevant data and ensure its quality for accurate analysis.\n",
        "* Perform EDA and Sentiment Analysis: Analyze data to uncover trends and understand consumer feedback.\n",
        "* Leverage AI Tools for Deeper Insights: Utilize AI to extract meaningful themes and insights from customer reviews.\n",
        "* Develop Strategic Recommendations: Use insights to propose data-driven improvements for product and strategy."
      ],
      "metadata": {
        "id": "MORLPo2cr4yr"
      }
    },
    {
      "cell_type": "code",
      "source": [],
      "metadata": {
        "id": "7d6ZDJuLf5E2"
      },
      "execution_count": null,
      "outputs": []
    },
    {
      "cell_type": "markdown",
      "source": [
        "### 3.2 Background\n",
        "Provide context about Beats by Dre and the importance of consumer sentiment analysis in the tech industry."
      ],
      "metadata": {
        "id": "gsPiaY4Zf6bZ"
      }
    },
    {
      "cell_type": "markdown",
      "source": [
        "Beats by Dre is a leading audio brand known for its high-quality headphones, earphones, and speakers that combine cutting-edge sound technology with sleek design.\n",
        "\n",
        "Founded by music producer Dr. Dre and record executive Jimmy Iovine, the brand has become a cultural icon, appealing to a broad audience from audiophiles to casual listeners.\n",
        "\n",
        "Now part of Apple's ecosystem, Beats continues to innovate and expand its presence in the tech industry.\n",
        "\n",
        "\n",
        "**Consumer sentiment analysis** is vital in the tech industry because it reveals how users perceive a product. For Beats, competing in a fast-paced market, understanding what customers like or dislike is crucial. This analysis extracts key insights from feedback, guiding product enhancements and marketing strategies, ultimately boosting customer satisfaction. By leveraging this data-driven approach, Beats can stay in tune with consumer preferences, predict market trends, and maintain its competitive edge.\n"
      ],
      "metadata": {
        "id": "oEobp9a9r76l"
      }
    },
    {
      "cell_type": "markdown",
      "source": [
        "**Bluetooth speakers ** have become popular for their convenience and portability, and choosing the best model depends on several features such as sound quality, battery life, wireless range, and extra functionalities (RJ Audio, 2023). Important factors to consider include high sound quality with minimal distortion, adequate volume capacity, and battery life tailored to specific needs. Weather resistance and additional features like voice assistants and speaker pairing can further enhance usability (RJ Audio, 2023).\n",
        "In summary, the ideal Bluetooth speaker should offer a balance of sound quality, portability, ease of use, and price (RJ Audio, 2023)."
      ],
      "metadata": {
        "id": "6T5TwYMzNE4_"
      }
    },
    {
      "cell_type": "code",
      "source": [],
      "metadata": {
        "id": "Jcn8CEfgf-uz"
      },
      "execution_count": null,
      "outputs": []
    },
    {
      "cell_type": "markdown",
      "source": [
        "## 4. Data Description\n",
        "\n",
        "### 4.1 Data Sources\n",
        "Describe the sources of your data (e.g., Amazon reviews)."
      ],
      "metadata": {
        "id": "oL_6d6NngA_2"
      }
    },
    {
      "cell_type": "markdown",
      "source": [
        "The data for this analysis comes exclusively from Amazon reviews across various product brands, including Beats and its competitors. This approach captures a wide range of consumer feedback on different aspects such as sound quality, durability, design, and value for money. By analyzing reviews for multiple brands, we gain a comprehensive understanding of customer preferences and perceptions, helping identify strengths and areas for improvement relative to the competition."
      ],
      "metadata": {
        "id": "yoY5tXCQsAEw"
      }
    },
    {
      "cell_type": "markdown",
      "source": [
        "### Import Libraries"
      ],
      "metadata": {
        "id": "ibu65pUctuQq"
      }
    },
    {
      "cell_type": "code",
      "source": [
        "# Data Handling\n",
        "import numpy as np\n",
        "import pandas as pd\n",
        "\n",
        "# Libraries for plotting\n",
        "import matplotlib.pyplot as plt\n",
        "import seaborn as sns\n",
        "\n",
        "# Sentiment Analysis\n",
        "import nltk\n",
        "from textblob import TextBlob\n",
        "from nltk.sentiment import SentimentIntensityAnalyzer\n",
        "\n",
        "# Gemini AI\n",
        "import os\n",
        "import google.generativeai as genai"
      ],
      "metadata": {
        "id": "5Vu0Gw6PtxD3"
      },
      "execution_count": null,
      "outputs": []
    },
    {
      "cell_type": "markdown",
      "source": [
        "### 4.2 Data Collection\n",
        "Explain the data gathering process, including any challenges faced and how they were overcome."
      ],
      "metadata": {
        "id": "8KD8d0nXgCAy"
      }
    },
    {
      "cell_type": "markdown",
      "source": [
        "The data gathering process involved extracting Amazon reviews for the new Beats Pill Bluetooth Speakers and similar products within the same category and price range. The goal was to collect approximately 100 reviews per product, totaling around 1,000 reviews. Here’s a breakdown of the steps and challenges faced:\n",
        "\n",
        "Step-by-Step Process:\n",
        "1. Accessing Oxylabs API:\n",
        "* Signed up for a trial account on Oxylabs, which allows up to 5,000 requests during a 7-day trial period.\n",
        "* Used the eCommerce Scraper API to handle Amazon’s dynamic content, simplifying the review extraction process.\n",
        "2. Filling in the API Form:\n",
        "* Entered the ASIN (Amazon Standard Identification Number) for each product.\n",
        "* Selected a user agent (desktop) and allowed structured data parsing without JavaScript rendering.\n",
        "* Chose the appropriate Amazon domain (e.g., .com for the US market) and specified the starting page number and the number of pages (up to 20).\n",
        "3. Extracting Reviews:\n",
        "* Extracted reviews for each product, using multiple page numbers to maximize data collection. Due to Amazon’s limitations, the extraction often capped at 100 reviews or 10 pages per product.\n",
        "* To overcome this limitation, diversified the number of products and explored different page numbers to achieve the target of 1,000 reviews.\n",
        "4. Exporting and Parsing Data:\n",
        "* Exported the extracted data in JSON format and used provided Google Colab code to parse the JSON into a structured dataset.\n",
        "* Converted the parsed data into a DataFrame and saved it as a CSV file.\n",
        "5. Compiling and Merging Data:\n",
        "* Repeated the extraction process for additional products.\n",
        "* Loaded all CSV files into DataFrames and merged them to create a comprehensive dataset.\n",
        "* Saved the final merged DataFrame as a CSV file for further analysis.\n",
        "\n",
        "**Challenges Faced and Solutions:**\n",
        "* **API Limitations:** Amazon reviews are often capped at 100 reviews or 10 pages per product. To address this, we increased the number of products and experimented with different page numbers to collect sufficient data.\n",
        "* **Time Constraints:** The trial period for Oxylabs was limited to 7 days. To optimize data collection, we prepared in advance and completed all requests within the trial period.\n",
        "* **Dynamic Content:** Scraping dynamic content from Amazon posed challenges, but using the Oxylabs API simplified the process, allowing us to focus on data analysis.\n",
        "\n",
        "By following these steps, we successfully compiled a robust dataset of Amazon reviews for the targeted product category, ready for sentiment analysis and consumer insights."
      ],
      "metadata": {
        "id": "0_S9684csKVg"
      }
    },
    {
      "cell_type": "markdown",
      "source": [
        "### 4.3 Data Cleaning\n",
        "Outline the steps taken to clean and preprocess the data, highlighting any significant decisions made during this process.\n",
        "\n"
      ],
      "metadata": {
        "id": "dnCMjSjegE55"
      }
    },
    {
      "cell_type": "markdown",
      "source": [
        "1. Merged Datasets:\n",
        "* Combined all 10 product datasets into a single DataFrame to create a unified dataset for analysis.\n",
        "2. Handle Missing Values:\n",
        "* Detected missing values across the dataset.\n",
        "* Dropped rows with missing data to ensure data integrity and accuracy.\n",
        "3. Restructure Timestamp:\n",
        "* Reformatted the timestamp column to properly display the date in YYYY-MM-DD format.\n",
        "* Removed the old timestamp column after restructuring.\n",
        "4. Clean Product Attributes:\n",
        "* Standardized the product_attribute section to display colors and configurations correctly.\n",
        "* Removed unnecessary words such as style: and Configuration: to keep attributes clean.\n",
        "5. Add Product Information:\n",
        "* Added product release dates and prices for each product to provide context for analysis.\n",
        "6. Drop Irrelevant Columns:\n",
        "* Dropped columns like profile_id, review_id, and author because they are not relevant for decision-making.\n",
        "7. Rename Product IDs:\n",
        "* Changed product_id to the corresponding product’s name or brand for better readability."
      ],
      "metadata": {
        "id": "hCBszCJUsNHW"
      }
    },
    {
      "cell_type": "code",
      "source": [],
      "metadata": {
        "id": "bgAD9_XRgGru"
      },
      "execution_count": null,
      "outputs": []
    },
    {
      "cell_type": "markdown",
      "source": [
        "### Data Preparation"
      ],
      "metadata": {
        "id": "dh3hjLR7unUC"
      }
    },
    {
      "cell_type": "code",
      "source": [
        "df = pd.read_csv(\"merged_data.csv\")\n",
        "df.head()"
      ],
      "metadata": {
        "colab": {
          "base_uri": "https://localhost:8080/",
          "height": 321
        },
        "id": "VkJMZ2tHupU6",
        "outputId": "893a9096-15e5-4f05-ab22-ef84bc007663"
      },
      "execution_count": null,
      "outputs": [
        {
          "output_type": "error",
          "ename": "FileNotFoundError",
          "evalue": "[Errno 2] No such file or directory: 'merged_data.csv'",
          "traceback": [
            "\u001b[0;31m---------------------------------------------------------------------------\u001b[0m",
            "\u001b[0;31mFileNotFoundError\u001b[0m                         Traceback (most recent call last)",
            "\u001b[0;32m<ipython-input-4-9f744c0fd8de>\u001b[0m in \u001b[0;36m<cell line: 0>\u001b[0;34m()\u001b[0m\n\u001b[0;32m----> 1\u001b[0;31m \u001b[0mdf\u001b[0m \u001b[0;34m=\u001b[0m \u001b[0mpd\u001b[0m\u001b[0;34m.\u001b[0m\u001b[0mread_csv\u001b[0m\u001b[0;34m(\u001b[0m\u001b[0;34m\"merged_data.csv\"\u001b[0m\u001b[0;34m)\u001b[0m\u001b[0;34m\u001b[0m\u001b[0;34m\u001b[0m\u001b[0m\n\u001b[0m\u001b[1;32m      2\u001b[0m \u001b[0mdf\u001b[0m\u001b[0;34m.\u001b[0m\u001b[0mhead\u001b[0m\u001b[0;34m(\u001b[0m\u001b[0;34m)\u001b[0m\u001b[0;34m\u001b[0m\u001b[0;34m\u001b[0m\u001b[0m\n",
            "\u001b[0;32m/usr/local/lib/python3.11/dist-packages/pandas/io/parsers/readers.py\u001b[0m in \u001b[0;36mread_csv\u001b[0;34m(filepath_or_buffer, sep, delimiter, header, names, index_col, usecols, dtype, engine, converters, true_values, false_values, skipinitialspace, skiprows, skipfooter, nrows, na_values, keep_default_na, na_filter, verbose, skip_blank_lines, parse_dates, infer_datetime_format, keep_date_col, date_parser, date_format, dayfirst, cache_dates, iterator, chunksize, compression, thousands, decimal, lineterminator, quotechar, quoting, doublequote, escapechar, comment, encoding, encoding_errors, dialect, on_bad_lines, delim_whitespace, low_memory, memory_map, float_precision, storage_options, dtype_backend)\u001b[0m\n\u001b[1;32m   1024\u001b[0m     \u001b[0mkwds\u001b[0m\u001b[0;34m.\u001b[0m\u001b[0mupdate\u001b[0m\u001b[0;34m(\u001b[0m\u001b[0mkwds_defaults\u001b[0m\u001b[0;34m)\u001b[0m\u001b[0;34m\u001b[0m\u001b[0;34m\u001b[0m\u001b[0m\n\u001b[1;32m   1025\u001b[0m \u001b[0;34m\u001b[0m\u001b[0m\n\u001b[0;32m-> 1026\u001b[0;31m     \u001b[0;32mreturn\u001b[0m \u001b[0m_read\u001b[0m\u001b[0;34m(\u001b[0m\u001b[0mfilepath_or_buffer\u001b[0m\u001b[0;34m,\u001b[0m \u001b[0mkwds\u001b[0m\u001b[0;34m)\u001b[0m\u001b[0;34m\u001b[0m\u001b[0;34m\u001b[0m\u001b[0m\n\u001b[0m\u001b[1;32m   1027\u001b[0m \u001b[0;34m\u001b[0m\u001b[0m\n\u001b[1;32m   1028\u001b[0m \u001b[0;34m\u001b[0m\u001b[0m\n",
            "\u001b[0;32m/usr/local/lib/python3.11/dist-packages/pandas/io/parsers/readers.py\u001b[0m in \u001b[0;36m_read\u001b[0;34m(filepath_or_buffer, kwds)\u001b[0m\n\u001b[1;32m    618\u001b[0m \u001b[0;34m\u001b[0m\u001b[0m\n\u001b[1;32m    619\u001b[0m     \u001b[0;31m# Create the parser.\u001b[0m\u001b[0;34m\u001b[0m\u001b[0;34m\u001b[0m\u001b[0m\n\u001b[0;32m--> 620\u001b[0;31m     \u001b[0mparser\u001b[0m \u001b[0;34m=\u001b[0m \u001b[0mTextFileReader\u001b[0m\u001b[0;34m(\u001b[0m\u001b[0mfilepath_or_buffer\u001b[0m\u001b[0;34m,\u001b[0m \u001b[0;34m**\u001b[0m\u001b[0mkwds\u001b[0m\u001b[0;34m)\u001b[0m\u001b[0;34m\u001b[0m\u001b[0;34m\u001b[0m\u001b[0m\n\u001b[0m\u001b[1;32m    621\u001b[0m \u001b[0;34m\u001b[0m\u001b[0m\n\u001b[1;32m    622\u001b[0m     \u001b[0;32mif\u001b[0m \u001b[0mchunksize\u001b[0m \u001b[0;32mor\u001b[0m \u001b[0miterator\u001b[0m\u001b[0;34m:\u001b[0m\u001b[0;34m\u001b[0m\u001b[0;34m\u001b[0m\u001b[0m\n",
            "\u001b[0;32m/usr/local/lib/python3.11/dist-packages/pandas/io/parsers/readers.py\u001b[0m in \u001b[0;36m__init__\u001b[0;34m(self, f, engine, **kwds)\u001b[0m\n\u001b[1;32m   1618\u001b[0m \u001b[0;34m\u001b[0m\u001b[0m\n\u001b[1;32m   1619\u001b[0m         \u001b[0mself\u001b[0m\u001b[0;34m.\u001b[0m\u001b[0mhandles\u001b[0m\u001b[0;34m:\u001b[0m \u001b[0mIOHandles\u001b[0m \u001b[0;34m|\u001b[0m \u001b[0;32mNone\u001b[0m \u001b[0;34m=\u001b[0m \u001b[0;32mNone\u001b[0m\u001b[0;34m\u001b[0m\u001b[0;34m\u001b[0m\u001b[0m\n\u001b[0;32m-> 1620\u001b[0;31m         \u001b[0mself\u001b[0m\u001b[0;34m.\u001b[0m\u001b[0m_engine\u001b[0m \u001b[0;34m=\u001b[0m \u001b[0mself\u001b[0m\u001b[0;34m.\u001b[0m\u001b[0m_make_engine\u001b[0m\u001b[0;34m(\u001b[0m\u001b[0mf\u001b[0m\u001b[0;34m,\u001b[0m \u001b[0mself\u001b[0m\u001b[0;34m.\u001b[0m\u001b[0mengine\u001b[0m\u001b[0;34m)\u001b[0m\u001b[0;34m\u001b[0m\u001b[0;34m\u001b[0m\u001b[0m\n\u001b[0m\u001b[1;32m   1621\u001b[0m \u001b[0;34m\u001b[0m\u001b[0m\n\u001b[1;32m   1622\u001b[0m     \u001b[0;32mdef\u001b[0m \u001b[0mclose\u001b[0m\u001b[0;34m(\u001b[0m\u001b[0mself\u001b[0m\u001b[0;34m)\u001b[0m \u001b[0;34m->\u001b[0m \u001b[0;32mNone\u001b[0m\u001b[0;34m:\u001b[0m\u001b[0;34m\u001b[0m\u001b[0;34m\u001b[0m\u001b[0m\n",
            "\u001b[0;32m/usr/local/lib/python3.11/dist-packages/pandas/io/parsers/readers.py\u001b[0m in \u001b[0;36m_make_engine\u001b[0;34m(self, f, engine)\u001b[0m\n\u001b[1;32m   1878\u001b[0m                 \u001b[0;32mif\u001b[0m \u001b[0;34m\"b\"\u001b[0m \u001b[0;32mnot\u001b[0m \u001b[0;32min\u001b[0m \u001b[0mmode\u001b[0m\u001b[0;34m:\u001b[0m\u001b[0;34m\u001b[0m\u001b[0;34m\u001b[0m\u001b[0m\n\u001b[1;32m   1879\u001b[0m                     \u001b[0mmode\u001b[0m \u001b[0;34m+=\u001b[0m \u001b[0;34m\"b\"\u001b[0m\u001b[0;34m\u001b[0m\u001b[0;34m\u001b[0m\u001b[0m\n\u001b[0;32m-> 1880\u001b[0;31m             self.handles = get_handle(\n\u001b[0m\u001b[1;32m   1881\u001b[0m                 \u001b[0mf\u001b[0m\u001b[0;34m,\u001b[0m\u001b[0;34m\u001b[0m\u001b[0;34m\u001b[0m\u001b[0m\n\u001b[1;32m   1882\u001b[0m                 \u001b[0mmode\u001b[0m\u001b[0;34m,\u001b[0m\u001b[0;34m\u001b[0m\u001b[0;34m\u001b[0m\u001b[0m\n",
            "\u001b[0;32m/usr/local/lib/python3.11/dist-packages/pandas/io/common.py\u001b[0m in \u001b[0;36mget_handle\u001b[0;34m(path_or_buf, mode, encoding, compression, memory_map, is_text, errors, storage_options)\u001b[0m\n\u001b[1;32m    871\u001b[0m         \u001b[0;32mif\u001b[0m \u001b[0mioargs\u001b[0m\u001b[0;34m.\u001b[0m\u001b[0mencoding\u001b[0m \u001b[0;32mand\u001b[0m \u001b[0;34m\"b\"\u001b[0m \u001b[0;32mnot\u001b[0m \u001b[0;32min\u001b[0m \u001b[0mioargs\u001b[0m\u001b[0;34m.\u001b[0m\u001b[0mmode\u001b[0m\u001b[0;34m:\u001b[0m\u001b[0;34m\u001b[0m\u001b[0;34m\u001b[0m\u001b[0m\n\u001b[1;32m    872\u001b[0m             \u001b[0;31m# Encoding\u001b[0m\u001b[0;34m\u001b[0m\u001b[0;34m\u001b[0m\u001b[0m\n\u001b[0;32m--> 873\u001b[0;31m             handle = open(\n\u001b[0m\u001b[1;32m    874\u001b[0m                 \u001b[0mhandle\u001b[0m\u001b[0;34m,\u001b[0m\u001b[0;34m\u001b[0m\u001b[0;34m\u001b[0m\u001b[0m\n\u001b[1;32m    875\u001b[0m                 \u001b[0mioargs\u001b[0m\u001b[0;34m.\u001b[0m\u001b[0mmode\u001b[0m\u001b[0;34m,\u001b[0m\u001b[0;34m\u001b[0m\u001b[0;34m\u001b[0m\u001b[0m\n",
            "\u001b[0;31mFileNotFoundError\u001b[0m: [Errno 2] No such file or directory: 'merged_data.csv'"
          ]
        }
      ]
    },
    {
      "cell_type": "code",
      "source": [
        "df.info()"
      ],
      "metadata": {
        "id": "bk7BcSCvvXDR"
      },
      "execution_count": null,
      "outputs": []
    },
    {
      "cell_type": "markdown",
      "source": [
        "Drop Null Values"
      ],
      "metadata": {
        "id": "mMvxx-rWvjKu"
      }
    },
    {
      "cell_type": "code",
      "source": [
        "df = df.dropna()"
      ],
      "metadata": {
        "id": "KgJDhoQRvnpl"
      },
      "execution_count": null,
      "outputs": []
    },
    {
      "cell_type": "markdown",
      "source": [
        "Observations:\n",
        "* All rows are unique\n",
        "* Data types are valid\n"
      ],
      "metadata": {
        "id": "iOHUfhJiwJJf"
      }
    },
    {
      "cell_type": "markdown",
      "source": [
        "Restructure Timestamp\n",
        "\n"
      ],
      "metadata": {
        "id": "N8BHf-9_waAv"
      }
    },
    {
      "cell_type": "code",
      "source": [
        "def convert_date(text):\n",
        "  date_str = text.split(\"in the United States \")[1]\n",
        "  timestamp = pd.to_datetime(date_str)\n",
        "  return pd.to_datetime(timestamp)"
      ],
      "metadata": {
        "id": "tL4NDropwg5v"
      },
      "execution_count": null,
      "outputs": []
    },
    {
      "cell_type": "code",
      "source": [
        "df[\"datetime\"] = df['timestamp'].apply(convert_date)\n",
        "df['day'] = df['datetime'].dt.day\n",
        "df['month'] = df['datetime'].dt.month\n",
        "df['year'] = df['datetime'].dt.year\n",
        "df.head()"
      ],
      "metadata": {
        "id": "UcHZpko5wipt"
      },
      "execution_count": null,
      "outputs": []
    },
    {
      "cell_type": "code",
      "source": [
        "# Drop timestamp column\n",
        "df = df.drop(columns=[\"timestamp\"])"
      ],
      "metadata": {
        "id": "OffQPo08w6kh"
      },
      "execution_count": null,
      "outputs": []
    },
    {
      "cell_type": "markdown",
      "source": [
        "Clean Product Attributes"
      ],
      "metadata": {
        "id": "CWyyAOsswjwM"
      }
    },
    {
      "cell_type": "code",
      "source": [
        "def grab_color(text):\n",
        "    # Check if 'Color:' is in the text\n",
        "    if 'Color:' in text:\n",
        "        # Split the text by 'Color:'\n",
        "        color_part = text.split('Color: ')[1]\n",
        "\n",
        "        #handle the different cases where 'Style:' or 'Configuration:' may follow the color\n",
        "        if 'Style:' in color_part:\n",
        "            color = color_part.split('Style:')[0].strip()\n",
        "        elif 'Configuration:' in color_part:\n",
        "            color = color_part.split('Configuration:')[0].strip()\n",
        "        else:\n",
        "            color = color_part.strip()\n",
        "\n",
        "        return color\n",
        "    else:\n",
        "        return None"
      ],
      "metadata": {
        "id": "RCTG0sujxh_z"
      },
      "execution_count": null,
      "outputs": []
    },
    {
      "cell_type": "code",
      "source": [
        "df[\"colors\"] = df['product_attributes'].apply(grab_color)\n",
        "df = df.drop(columns=[\"product_attributes\"])\n",
        "df = df.copy()\n",
        "df.head()"
      ],
      "metadata": {
        "id": "KtNjhHvBxjlu"
      },
      "execution_count": null,
      "outputs": []
    },
    {
      "cell_type": "markdown",
      "source": [
        "Add Product Release Date and Prices"
      ],
      "metadata": {
        "id": "ZcQnuao8xvm7"
      }
    },
    {
      "cell_type": "code",
      "source": [
        "def add_release_date(product_id):\n",
        "  if product_id == 'B078HG6WNX':\n",
        "    return '10/26/2015'\n",
        "  elif product_id == 'B0CZN6J824':\n",
        "    return \"04/22/2024\"\n",
        "  elif product_id == 'B0CXKSCY1G':\n",
        "    return \"04/11/2024\"\n",
        "  elif product_id == 'B099TJGJ91':\n",
        "    return '10/14/2021'\n",
        "  elif product_id == 'B07QK2SPP7':\n",
        "    return '04/19/2019'\n",
        "  elif product_id == 'B09KX6RT7Q':\n",
        "    return '8/17/2022 Ears'\n",
        "  elif product_id == 'B0BXW4KKXK':\n",
        "    return \"05/08/2023\"\n",
        "  elif product_id == 'B07G9Y3ZMC':\n",
        "    return \"11/2019\"\n",
        "  elif product_id == 'B07T5GGR8L':\n",
        "    return \"06/18/2019\"\n",
        "  elif product_id == 'B09NWBZ7T3':\n",
        "    return \"02/03/2022\"\n",
        "\n",
        "df['release_date'] = df['product_id'].apply(add_release_date)"
      ],
      "metadata": {
        "id": "vLZUgr_gxxc3"
      },
      "execution_count": null,
      "outputs": []
    },
    {
      "cell_type": "code",
      "source": [
        "def add_price(product_id):\n",
        "  if product_id == 'B078HG6WNX':\n",
        "    return 175.95\n",
        "  elif product_id == 'B0CZN6J824':\n",
        "    return 129.99\n",
        "  elif product_id == 'B0CXKSCY1G':\n",
        "    return 98.00\n",
        "  elif product_id == 'B099TJGJ91':\n",
        "    return 109.00\n",
        "  elif product_id == 'B07QK2SPP7':\n",
        "    return 94.95\n",
        "  elif product_id == 'B09KX6RT7Q':\n",
        "    return 89.00\n",
        "  elif product_id == 'B0BXW4KKXK':\n",
        "    return 199.99\n",
        "  elif product_id == 'B07G9Y3ZMC':\n",
        "    return 199.99\n",
        "  elif product_id == 'B07T5GGR8L':\n",
        "    return 159.95\n",
        "  elif product_id == 'B09NWBZ7T3':\n",
        "    return 247.57\n",
        "\n",
        "df[\"price\"] = df[\"product_id\"].apply(add_price)"
      ],
      "metadata": {
        "id": "ubYtpigux_Tv"
      },
      "execution_count": null,
      "outputs": []
    },
    {
      "cell_type": "code",
      "source": [
        "def change_name(product_id):\n",
        "  if product_id == 'B078HG6WNX':\n",
        "    return 'Beats'\n",
        "  elif product_id == 'B0CZN6J824':\n",
        "    return \"Doss\"\n",
        "  elif product_id == 'B0CXKSCY1G':\n",
        "    return \"Sony\"\n",
        "  elif product_id == 'B099TJGJ91':\n",
        "    return 'Bose'\n",
        "  elif product_id == 'B07QK2SPP7':\n",
        "    return 'JBL'\n",
        "  elif product_id == 'B09KX6RT7Q':\n",
        "    return 'Ultimate Ears'\n",
        "  elif product_id == 'B0BXW4KKXK':\n",
        "    return \"Anker\"\n",
        "  elif product_id == 'B07G9Y3ZMC':\n",
        "    return \"Amazon\"\n",
        "  elif product_id == 'B07T5GGR8L':\n",
        "    return \"Yamaha\"\n",
        "  elif product_id == 'B09NWBZ7T3':\n",
        "    return \"Bang & Olufsen\"\n",
        "\n",
        "df[\"product_id\"] = df[\"product_id\"].apply(change_name)\n"
      ],
      "metadata": {
        "id": "6NQHTKp5yRp7"
      },
      "execution_count": null,
      "outputs": []
    },
    {
      "cell_type": "code",
      "source": [
        "df.head()"
      ],
      "metadata": {
        "id": "Z7jz3GhMydc1"
      },
      "execution_count": null,
      "outputs": []
    },
    {
      "cell_type": "markdown",
      "source": [
        "Drop Columns"
      ],
      "metadata": {
        "id": "BbmXwmcHx5gr"
      }
    },
    {
      "cell_type": "code",
      "source": [
        "df.drop(columns=['profile_id'], inplace=True)\n",
        "df.drop(columns=['review_id'], inplace=True)\n",
        "df.drop(columns=['author'], inplace=True)\n"
      ],
      "metadata": {
        "id": "0uPX1jSKyWPJ"
      },
      "execution_count": null,
      "outputs": []
    },
    {
      "cell_type": "markdown",
      "source": [
        "## 5. Exploratory Data Analysis (EDA)\n",
        "\n",
        "### 5.1 Data Overview\n",
        "Provide a summary of the dataset, including key statistics (mean, median, mode, standard deviation, etc.).\n"
      ],
      "metadata": {
        "id": "7LQuEuuKgHJc"
      }
    },
    {
      "cell_type": "markdown",
      "source": [
        "Rating:\n",
        "* Average is high at 4.55, with most ratings being 5.\n",
        "Indicates generally positive feedback.\n",
        "\n",
        "Helpful Count:\n",
        "* Low median (0) but a high maximum (2116), suggesting a few reviews received significantly more attention than others.\n",
        "\n",
        "Date Range:\n",
        "* Reviews span from November 1, 2018, to August 9, 2024, with a concentration around 2023 and 2024.\n",
        "\n",
        "Day and Month:\n",
        "* Reviews are spread across all days and months, with slight peaks in mid-month and in July.\n",
        "\n",
        "Price:\n",
        "* Average price is $150.26, with most prices clustering between $98 and $200.\n",
        "Indicates a moderate price range for the products being reviewed."
      ],
      "metadata": {
        "id": "-Pe3WCyCz7ht"
      }
    },
    {
      "cell_type": "code",
      "source": [
        "df.describe()"
      ],
      "metadata": {
        "id": "HXTgzclLgLFb",
        "colab": {
          "base_uri": "https://localhost:8080/",
          "height": 300
        },
        "outputId": "76b33e5c-4318-443d-9999-0492dde87081"
      },
      "execution_count": null,
      "outputs": [
        {
          "output_type": "execute_result",
          "data": {
            "text/plain": [
              "           rating  helpful_count                       datetime         day  \\\n",
              "count  993.000000     993.000000                            993  993.000000   \n",
              "mean     4.551863       7.465257  2023-10-05 18:54:01.087613440   15.584089   \n",
              "min      1.000000       0.000000            2018-11-01 00:00:00    1.000000   \n",
              "25%      4.000000       0.000000            2023-11-25 00:00:00    7.000000   \n",
              "50%      5.000000       0.000000            2024-05-31 00:00:00   16.000000   \n",
              "75%      5.000000       2.000000            2024-07-18 00:00:00   24.000000   \n",
              "max      5.000000    2116.000000            2024-08-09 00:00:00   31.000000   \n",
              "std      0.875046      73.004026                            NaN    9.081798   \n",
              "\n",
              "            month         year       price  \n",
              "count  993.000000   993.000000  993.000000  \n",
              "mean     6.310171  2023.279960  150.259164  \n",
              "min      1.000000  2018.000000   89.000000  \n",
              "25%      5.000000  2023.000000   98.000000  \n",
              "50%      7.000000  2024.000000  129.990000  \n",
              "75%      7.000000  2024.000000  199.990000  \n",
              "max     12.000000  2024.000000  247.570000  \n",
              "std      2.503318     1.444599   51.957069  "
            ],
            "text/html": [
              "\n",
              "  <div id=\"df-5d70166a-ee4c-449d-80e5-637c60c4d9c7\" class=\"colab-df-container\">\n",
              "    <div>\n",
              "<style scoped>\n",
              "    .dataframe tbody tr th:only-of-type {\n",
              "        vertical-align: middle;\n",
              "    }\n",
              "\n",
              "    .dataframe tbody tr th {\n",
              "        vertical-align: top;\n",
              "    }\n",
              "\n",
              "    .dataframe thead th {\n",
              "        text-align: right;\n",
              "    }\n",
              "</style>\n",
              "<table border=\"1\" class=\"dataframe\">\n",
              "  <thead>\n",
              "    <tr style=\"text-align: right;\">\n",
              "      <th></th>\n",
              "      <th>rating</th>\n",
              "      <th>helpful_count</th>\n",
              "      <th>datetime</th>\n",
              "      <th>day</th>\n",
              "      <th>month</th>\n",
              "      <th>year</th>\n",
              "      <th>price</th>\n",
              "    </tr>\n",
              "  </thead>\n",
              "  <tbody>\n",
              "    <tr>\n",
              "      <th>count</th>\n",
              "      <td>993.000000</td>\n",
              "      <td>993.000000</td>\n",
              "      <td>993</td>\n",
              "      <td>993.000000</td>\n",
              "      <td>993.000000</td>\n",
              "      <td>993.000000</td>\n",
              "      <td>993.000000</td>\n",
              "    </tr>\n",
              "    <tr>\n",
              "      <th>mean</th>\n",
              "      <td>4.551863</td>\n",
              "      <td>7.465257</td>\n",
              "      <td>2023-10-05 18:54:01.087613440</td>\n",
              "      <td>15.584089</td>\n",
              "      <td>6.310171</td>\n",
              "      <td>2023.279960</td>\n",
              "      <td>150.259164</td>\n",
              "    </tr>\n",
              "    <tr>\n",
              "      <th>min</th>\n",
              "      <td>1.000000</td>\n",
              "      <td>0.000000</td>\n",
              "      <td>2018-11-01 00:00:00</td>\n",
              "      <td>1.000000</td>\n",
              "      <td>1.000000</td>\n",
              "      <td>2018.000000</td>\n",
              "      <td>89.000000</td>\n",
              "    </tr>\n",
              "    <tr>\n",
              "      <th>25%</th>\n",
              "      <td>4.000000</td>\n",
              "      <td>0.000000</td>\n",
              "      <td>2023-11-25 00:00:00</td>\n",
              "      <td>7.000000</td>\n",
              "      <td>5.000000</td>\n",
              "      <td>2023.000000</td>\n",
              "      <td>98.000000</td>\n",
              "    </tr>\n",
              "    <tr>\n",
              "      <th>50%</th>\n",
              "      <td>5.000000</td>\n",
              "      <td>0.000000</td>\n",
              "      <td>2024-05-31 00:00:00</td>\n",
              "      <td>16.000000</td>\n",
              "      <td>7.000000</td>\n",
              "      <td>2024.000000</td>\n",
              "      <td>129.990000</td>\n",
              "    </tr>\n",
              "    <tr>\n",
              "      <th>75%</th>\n",
              "      <td>5.000000</td>\n",
              "      <td>2.000000</td>\n",
              "      <td>2024-07-18 00:00:00</td>\n",
              "      <td>24.000000</td>\n",
              "      <td>7.000000</td>\n",
              "      <td>2024.000000</td>\n",
              "      <td>199.990000</td>\n",
              "    </tr>\n",
              "    <tr>\n",
              "      <th>max</th>\n",
              "      <td>5.000000</td>\n",
              "      <td>2116.000000</td>\n",
              "      <td>2024-08-09 00:00:00</td>\n",
              "      <td>31.000000</td>\n",
              "      <td>12.000000</td>\n",
              "      <td>2024.000000</td>\n",
              "      <td>247.570000</td>\n",
              "    </tr>\n",
              "    <tr>\n",
              "      <th>std</th>\n",
              "      <td>0.875046</td>\n",
              "      <td>73.004026</td>\n",
              "      <td>NaN</td>\n",
              "      <td>9.081798</td>\n",
              "      <td>2.503318</td>\n",
              "      <td>1.444599</td>\n",
              "      <td>51.957069</td>\n",
              "    </tr>\n",
              "  </tbody>\n",
              "</table>\n",
              "</div>\n",
              "    <div class=\"colab-df-buttons\">\n",
              "\n",
              "  <div class=\"colab-df-container\">\n",
              "    <button class=\"colab-df-convert\" onclick=\"convertToInteractive('df-5d70166a-ee4c-449d-80e5-637c60c4d9c7')\"\n",
              "            title=\"Convert this dataframe to an interactive table.\"\n",
              "            style=\"display:none;\">\n",
              "\n",
              "  <svg xmlns=\"http://www.w3.org/2000/svg\" height=\"24px\" viewBox=\"0 -960 960 960\">\n",
              "    <path d=\"M120-120v-720h720v720H120Zm60-500h600v-160H180v160Zm220 220h160v-160H400v160Zm0 220h160v-160H400v160ZM180-400h160v-160H180v160Zm440 0h160v-160H620v160ZM180-180h160v-160H180v160Zm440 0h160v-160H620v160Z\"/>\n",
              "  </svg>\n",
              "    </button>\n",
              "\n",
              "  <style>\n",
              "    .colab-df-container {\n",
              "      display:flex;\n",
              "      gap: 12px;\n",
              "    }\n",
              "\n",
              "    .colab-df-convert {\n",
              "      background-color: #E8F0FE;\n",
              "      border: none;\n",
              "      border-radius: 50%;\n",
              "      cursor: pointer;\n",
              "      display: none;\n",
              "      fill: #1967D2;\n",
              "      height: 32px;\n",
              "      padding: 0 0 0 0;\n",
              "      width: 32px;\n",
              "    }\n",
              "\n",
              "    .colab-df-convert:hover {\n",
              "      background-color: #E2EBFA;\n",
              "      box-shadow: 0px 1px 2px rgba(60, 64, 67, 0.3), 0px 1px 3px 1px rgba(60, 64, 67, 0.15);\n",
              "      fill: #174EA6;\n",
              "    }\n",
              "\n",
              "    .colab-df-buttons div {\n",
              "      margin-bottom: 4px;\n",
              "    }\n",
              "\n",
              "    [theme=dark] .colab-df-convert {\n",
              "      background-color: #3B4455;\n",
              "      fill: #D2E3FC;\n",
              "    }\n",
              "\n",
              "    [theme=dark] .colab-df-convert:hover {\n",
              "      background-color: #434B5C;\n",
              "      box-shadow: 0px 1px 3px 1px rgba(0, 0, 0, 0.15);\n",
              "      filter: drop-shadow(0px 1px 2px rgba(0, 0, 0, 0.3));\n",
              "      fill: #FFFFFF;\n",
              "    }\n",
              "  </style>\n",
              "\n",
              "    <script>\n",
              "      const buttonEl =\n",
              "        document.querySelector('#df-5d70166a-ee4c-449d-80e5-637c60c4d9c7 button.colab-df-convert');\n",
              "      buttonEl.style.display =\n",
              "        google.colab.kernel.accessAllowed ? 'block' : 'none';\n",
              "\n",
              "      async function convertToInteractive(key) {\n",
              "        const element = document.querySelector('#df-5d70166a-ee4c-449d-80e5-637c60c4d9c7');\n",
              "        const dataTable =\n",
              "          await google.colab.kernel.invokeFunction('convertToInteractive',\n",
              "                                                    [key], {});\n",
              "        if (!dataTable) return;\n",
              "\n",
              "        const docLinkHtml = 'Like what you see? Visit the ' +\n",
              "          '<a target=\"_blank\" href=https://colab.research.google.com/notebooks/data_table.ipynb>data table notebook</a>'\n",
              "          + ' to learn more about interactive tables.';\n",
              "        element.innerHTML = '';\n",
              "        dataTable['output_type'] = 'display_data';\n",
              "        await google.colab.output.renderOutput(dataTable, element);\n",
              "        const docLink = document.createElement('div');\n",
              "        docLink.innerHTML = docLinkHtml;\n",
              "        element.appendChild(docLink);\n",
              "      }\n",
              "    </script>\n",
              "  </div>\n",
              "\n",
              "\n",
              "<div id=\"df-5c0871f4-6bcd-4cd2-91c5-dce966e50ed2\">\n",
              "  <button class=\"colab-df-quickchart\" onclick=\"quickchart('df-5c0871f4-6bcd-4cd2-91c5-dce966e50ed2')\"\n",
              "            title=\"Suggest charts\"\n",
              "            style=\"display:none;\">\n",
              "\n",
              "<svg xmlns=\"http://www.w3.org/2000/svg\" height=\"24px\"viewBox=\"0 0 24 24\"\n",
              "     width=\"24px\">\n",
              "    <g>\n",
              "        <path d=\"M19 3H5c-1.1 0-2 .9-2 2v14c0 1.1.9 2 2 2h14c1.1 0 2-.9 2-2V5c0-1.1-.9-2-2-2zM9 17H7v-7h2v7zm4 0h-2V7h2v10zm4 0h-2v-4h2v4z\"/>\n",
              "    </g>\n",
              "</svg>\n",
              "  </button>\n",
              "\n",
              "<style>\n",
              "  .colab-df-quickchart {\n",
              "      --bg-color: #E8F0FE;\n",
              "      --fill-color: #1967D2;\n",
              "      --hover-bg-color: #E2EBFA;\n",
              "      --hover-fill-color: #174EA6;\n",
              "      --disabled-fill-color: #AAA;\n",
              "      --disabled-bg-color: #DDD;\n",
              "  }\n",
              "\n",
              "  [theme=dark] .colab-df-quickchart {\n",
              "      --bg-color: #3B4455;\n",
              "      --fill-color: #D2E3FC;\n",
              "      --hover-bg-color: #434B5C;\n",
              "      --hover-fill-color: #FFFFFF;\n",
              "      --disabled-bg-color: #3B4455;\n",
              "      --disabled-fill-color: #666;\n",
              "  }\n",
              "\n",
              "  .colab-df-quickchart {\n",
              "    background-color: var(--bg-color);\n",
              "    border: none;\n",
              "    border-radius: 50%;\n",
              "    cursor: pointer;\n",
              "    display: none;\n",
              "    fill: var(--fill-color);\n",
              "    height: 32px;\n",
              "    padding: 0;\n",
              "    width: 32px;\n",
              "  }\n",
              "\n",
              "  .colab-df-quickchart:hover {\n",
              "    background-color: var(--hover-bg-color);\n",
              "    box-shadow: 0 1px 2px rgba(60, 64, 67, 0.3), 0 1px 3px 1px rgba(60, 64, 67, 0.15);\n",
              "    fill: var(--button-hover-fill-color);\n",
              "  }\n",
              "\n",
              "  .colab-df-quickchart-complete:disabled,\n",
              "  .colab-df-quickchart-complete:disabled:hover {\n",
              "    background-color: var(--disabled-bg-color);\n",
              "    fill: var(--disabled-fill-color);\n",
              "    box-shadow: none;\n",
              "  }\n",
              "\n",
              "  .colab-df-spinner {\n",
              "    border: 2px solid var(--fill-color);\n",
              "    border-color: transparent;\n",
              "    border-bottom-color: var(--fill-color);\n",
              "    animation:\n",
              "      spin 1s steps(1) infinite;\n",
              "  }\n",
              "\n",
              "  @keyframes spin {\n",
              "    0% {\n",
              "      border-color: transparent;\n",
              "      border-bottom-color: var(--fill-color);\n",
              "      border-left-color: var(--fill-color);\n",
              "    }\n",
              "    20% {\n",
              "      border-color: transparent;\n",
              "      border-left-color: var(--fill-color);\n",
              "      border-top-color: var(--fill-color);\n",
              "    }\n",
              "    30% {\n",
              "      border-color: transparent;\n",
              "      border-left-color: var(--fill-color);\n",
              "      border-top-color: var(--fill-color);\n",
              "      border-right-color: var(--fill-color);\n",
              "    }\n",
              "    40% {\n",
              "      border-color: transparent;\n",
              "      border-right-color: var(--fill-color);\n",
              "      border-top-color: var(--fill-color);\n",
              "    }\n",
              "    60% {\n",
              "      border-color: transparent;\n",
              "      border-right-color: var(--fill-color);\n",
              "    }\n",
              "    80% {\n",
              "      border-color: transparent;\n",
              "      border-right-color: var(--fill-color);\n",
              "      border-bottom-color: var(--fill-color);\n",
              "    }\n",
              "    90% {\n",
              "      border-color: transparent;\n",
              "      border-bottom-color: var(--fill-color);\n",
              "    }\n",
              "  }\n",
              "</style>\n",
              "\n",
              "  <script>\n",
              "    async function quickchart(key) {\n",
              "      const quickchartButtonEl =\n",
              "        document.querySelector('#' + key + ' button');\n",
              "      quickchartButtonEl.disabled = true;  // To prevent multiple clicks.\n",
              "      quickchartButtonEl.classList.add('colab-df-spinner');\n",
              "      try {\n",
              "        const charts = await google.colab.kernel.invokeFunction(\n",
              "            'suggestCharts', [key], {});\n",
              "      } catch (error) {\n",
              "        console.error('Error during call to suggestCharts:', error);\n",
              "      }\n",
              "      quickchartButtonEl.classList.remove('colab-df-spinner');\n",
              "      quickchartButtonEl.classList.add('colab-df-quickchart-complete');\n",
              "    }\n",
              "    (() => {\n",
              "      let quickchartButtonEl =\n",
              "        document.querySelector('#df-5c0871f4-6bcd-4cd2-91c5-dce966e50ed2 button');\n",
              "      quickchartButtonEl.style.display =\n",
              "        google.colab.kernel.accessAllowed ? 'block' : 'none';\n",
              "    })();\n",
              "  </script>\n",
              "</div>\n",
              "\n",
              "    </div>\n",
              "  </div>\n"
            ],
            "application/vnd.google.colaboratory.intrinsic+json": {
              "type": "dataframe",
              "summary": "{\n  \"name\": \"df\",\n  \"rows\": 8,\n  \"fields\": [\n    {\n      \"column\": \"rating\",\n      \"properties\": {\n        \"dtype\": \"number\",\n        \"std\": 349.798577581734,\n        \"min\": 0.8750455364727152,\n        \"max\": 993.0,\n        \"num_unique_values\": 6,\n        \"samples\": [\n          993.0,\n          4.551863041289023,\n          0.8750455364727152\n        ],\n        \"semantic_type\": \"\",\n        \"description\": \"\"\n      }\n    },\n    {\n      \"column\": \"helpful_count\",\n      \"properties\": {\n        \"dtype\": \"number\",\n        \"std\": 774.2009516964489,\n        \"min\": 0.0,\n        \"max\": 2116.0,\n        \"num_unique_values\": 6,\n        \"samples\": [\n          993.0,\n          7.4652567975830815,\n          73.00402559713135\n        ],\n        \"semantic_type\": \"\",\n        \"description\": \"\"\n      }\n    },\n    {\n      \"column\": \"datetime\",\n      \"properties\": {\n        \"dtype\": \"date\",\n        \"min\": \"1970-01-01 00:00:00.000000993\",\n        \"max\": \"2024-08-09 00:00:00\",\n        \"num_unique_values\": 7,\n        \"samples\": [\n          \"993\",\n          \"2023-10-05 18:54:01.087613440\",\n          \"2024-07-18 00:00:00\"\n        ],\n        \"semantic_type\": \"\",\n        \"description\": \"\"\n      }\n    },\n    {\n      \"column\": \"day\",\n      \"properties\": {\n        \"dtype\": \"number\",\n        \"std\": 345.9733339076859,\n        \"min\": 1.0,\n        \"max\": 993.0,\n        \"num_unique_values\": 8,\n        \"samples\": [\n          15.584088620342397,\n          24.0,\n          993.0\n        ],\n        \"semantic_type\": \"\",\n        \"description\": \"\"\n      }\n    },\n    {\n      \"column\": \"month\",\n      \"properties\": {\n        \"dtype\": \"number\",\n        \"std\": 349.0327028482656,\n        \"min\": 1.0,\n        \"max\": 993.0,\n        \"num_unique_values\": 7,\n        \"samples\": [\n          993.0,\n          6.310171198388721,\n          12.0\n        ],\n        \"semantic_type\": \"\",\n        \"description\": \"\"\n      }\n    },\n    {\n      \"column\": \"year\",\n      \"properties\": {\n        \"dtype\": \"number\",\n        \"std\": 754.2548785590167,\n        \"min\": 1.444598950369266,\n        \"max\": 2024.0,\n        \"num_unique_values\": 6,\n        \"samples\": [\n          993.0,\n          2023.2799597180262,\n          1.444598950369266\n        ],\n        \"semantic_type\": \"\",\n        \"description\": \"\"\n      }\n    },\n    {\n      \"column\": \"price\",\n      \"properties\": {\n        \"dtype\": \"number\",\n        \"std\": 308.6723175449019,\n        \"min\": 51.957069326805644,\n        \"max\": 993.0,\n        \"num_unique_values\": 8,\n        \"samples\": [\n          150.2591641490433,\n          199.99,\n          993.0\n        ],\n        \"semantic_type\": \"\",\n        \"description\": \"\"\n      }\n    }\n  ]\n}"
            }
          },
          "metadata": {},
          "execution_count": 15
        }
      ]
    },
    {
      "cell_type": "markdown",
      "source": [
        "### 5.2 Visualizations\n",
        "Include relevant visualizations (histograms, box plots, scatter plots, etc.) and explain what each visualization reveals about the data."
      ],
      "metadata": {
        "id": "sV0UqGEFgLeB"
      }
    },
    {
      "cell_type": "code",
      "source": [
        "# Average Rating Per Product\n",
        "\n",
        "product_ratings = df.groupby('product_id')['rating'].mean().reset_index()\n",
        "product_ratings = product_ratings.sort_values(by='rating', ascending=True)\n",
        "sns.barplot(x='product_id', y='rating', data=product_ratings)\n",
        "plt.xticks(rotation=45)\n",
        "plt.figure(figsize=(15, 6))\n",
        "plt.show()"
      ],
      "metadata": {
        "colab": {
          "base_uri": "https://localhost:8080/",
          "height": 540
        },
        "id": "Pnpi7W6D5LJ2",
        "outputId": "db9990fc-3d6b-49de-e5c9-f8c5bd25dd11"
      },
      "execution_count": null,
      "outputs": [
        {
          "output_type": "display_data",
          "data": {
            "text/plain": [
              "<Figure size 640x480 with 1 Axes>"
            ],
            "image/png": "[encoded data removed]"
          },
          "metadata": {}
        },
        {
          "output_type": "display_data",
          "data": {
            "text/plain": [
              "<Figure size 1500x600 with 0 Axes>"
            ]
          },
          "metadata": {}
        }
      ]
    },
    {
      "cell_type": "markdown",
      "source": [
        "Observations:\n",
        "\n",
        "* Positioning:\n",
        "Beats by Dre appears on the lower end of the list in terms of customer ratings compared to other brands like JBL, Bose, and Ultimate Ears. This suggests that, despite being a well-known brand, its product satisfaction is relatively lower among the products listed.\n",
        "\n",
        "* Product Satisfaction: Lesser-known brands (such as JBL and Bose) are receiving higher ratings, indicating that these brands may be better meeting customer expectations or providing better value than Beats by Dre."
      ],
      "metadata": {
        "id": "NDULHtZ45QQt"
      }
    },
    {
      "cell_type": "code",
      "source": [
        "# Outliers with year of review\n",
        "\n",
        "# Create a box plot\n",
        "plt.figure(figsize=(8, 6))\n",
        "plt.boxplot(df['year'])\n",
        "plt.title('Review Year Box Plot')\n",
        "plt.show()"
      ],
      "metadata": {
        "colab": {
          "base_uri": "https://localhost:8080/",
          "height": 545
        },
        "id": "pi4o7bD43xUD",
        "outputId": "6c5036bc-2a8e-4e36-a450-d265cf939832"
      },
      "execution_count": null,
      "outputs": [
        {
          "output_type": "display_data",
          "data": {
            "text/plain": [
              "<Figure size 800x600 with 1 Axes>"
            ],
            "image/png": "[encoded data removed]"
          },
          "metadata": {}
        }
      ]
    },
    {
      "cell_type": "markdown",
      "source": [
        "Observations\n",
        "* Review Year Trend: Most reviews are from 2023 to 2024, indicating that recent feedback is predominant.\n",
        "* Outliers: Reviews from 2018-2021 are outliers, likely less relevant for assessing current product quality.\n",
        "* Newer Technology: Reviews from recent years (2023-2024) may reflect better quality and build due to technological advancements.\n",
        "* Action: I added product release date column to analyze how review sentiments change over a product’s lifecycle and to better assess the impact of new technology on customer satisfaction."
      ],
      "metadata": {
        "id": "Gj-s86rS4FMx"
      }
    },
    {
      "cell_type": "code",
      "source": [
        "# Distributions of Ratings\n",
        "\n",
        "# Calculate the percentage distribution of each rating (1-5)\n",
        "rating_distribution = df['rating'].value_counts(normalize=True) * 100\n",
        "\n",
        "#sort\n",
        "rating_distribution = rating_distribution.sort_index()\n",
        "\n",
        "plt.figure(figsize=(12,12))\n",
        "plt.pie(rating_distribution, labels=rating_distribution.index, autopct='%1.1f%%', startangle=90)\n",
        "plt.title('Distribution of Ratings')\n",
        "plt.show()"
      ],
      "metadata": {
        "id": "YBuvgi_igOIz",
        "colab": {
          "base_uri": "https://localhost:8080/",
          "height": 984
        },
        "outputId": "58b1f8c6-66aa-4fc1-e0c9-5c5eae9dc8c8"
      },
      "execution_count": null,
      "outputs": [
        {
          "output_type": "display_data",
          "data": {
            "text/plain": [
              "<Figure size 1200x1200 with 1 Axes>"
            ],
            "image/png": "[encoded data removed]"
          },
          "metadata": {}
        }
      ]
    },
    {
      "cell_type": "markdown",
      "source": [
        "Observation:\n",
        "\n",
        "The majority of reviews are highly positive:\n",
        "* 5-star: 72.4%\n",
        "* 4-star: 16.9%\n",
        "* 3-star or lower: 10.6%\n",
        "\n",
        "This indicates strong overall customer satisfaction."
      ],
      "metadata": {
        "id": "AUNNzSWR4oQF"
      }
    },
    {
      "cell_type": "code",
      "source": [
        "#Price Buckets\n",
        "\n",
        "df[\"price\"].plot(kind=\"hist\", bins=10)\n",
        "\n",
        "plt.xlabel(\"Price\")\n",
        "plt.ylabel(\"Frequency\")\n",
        "plt.title(\"Price Distribution\")\n",
        "plt.show()"
      ],
      "metadata": {
        "colab": {
          "base_uri": "https://localhost:8080/",
          "height": 472
        },
        "id": "N3Mx11vC3wh8",
        "outputId": "dbc1099e-1129-4dd4-d4c9-4a9d8c2cde74"
      },
      "execution_count": null,
      "outputs": [
        {
          "output_type": "display_data",
          "data": {
            "text/plain": [
              "<Figure size 640x480 with 1 Axes>"
            ],
            "image/png": "[encoded data removed]"
          },
          "metadata": {}
        }
      ]
    },
    {
      "cell_type": "markdown",
      "source": [
        "Observation:\n",
        "\n",
        "* High Concentration at Lower Prices: The majority of products are priced around $100, with the highest frequency observed in this range.\n",
        "* Moderate Frequency at Mid-Range Prices: There is a noticeable peak around the $180-$200 range, suggesting another popular price segment.\n",
        "\n",
        "* Lower Frequency at Higher Prices: Fewer products are priced above $200, indicating a smaller market for higher-priced items\n",
        "\n",
        "This distribution implies a market with a strong preference for lower-priced items, with some demand for mid-range products."
      ],
      "metadata": {
        "id": "N9vsxC6L42hh"
      }
    },
    {
      "cell_type": "code",
      "source": [
        "# Scatter plot of price vs ratings\n",
        "\n",
        "# Calculate the mean rating for each product\n",
        "mean_ratings = df.groupby('product_id')['rating'].mean().reset_index()\n",
        "\n",
        "# Add corresponding price\n",
        "mean_ratings['price'] = df.groupby('product_id')['price'].mean().values\n",
        "\n",
        "# Create scatter plot\n",
        "plt.figure(figsize=(8, 6))\n",
        "plt.scatter(mean_ratings['price'], mean_ratings['rating'], color='blue', marker='o', s=100)\n",
        "\n",
        "plt.xlabel('Price')\n",
        "plt.ylabel('Mean Rating')\n",
        "plt.title('Scatter Plot of Mean Ratings vs. Price')\n",
        "\n",
        "plt.grid(True)\n",
        "plt.show()"
      ],
      "metadata": {
        "colab": {
          "base_uri": "https://localhost:8080/",
          "height": 564
        },
        "id": "qpco4GaS5m4X",
        "outputId": "a14d11ac-d4ea-4d37-c8d9-211f0b8f2d25"
      },
      "execution_count": null,
      "outputs": [
        {
          "output_type": "display_data",
          "data": {
            "text/plain": [
              "<Figure size 800x600 with 1 Axes>"
            ],
            "image/png": "[encoded data removed]"
          },
          "metadata": {}
        }
      ]
    },
    {
      "cell_type": "markdown",
      "source": [
        "Observation: Customer Satisfaction and Price Range\n",
        "\n",
        "* High Satisfaction for Lower-Priced Products: Products in the $50-$150 range have the highest average ratings (around 4.8 to 5.0), suggesting strong customer satisfaction due to good value for money and affordability.\n",
        "\n",
        "Impact on Beats by Dre:\n",
        "* Lower Ratings: If Beats by Dre products are priced above $150, they may face lower satisfaction due to unmet premium expectations.\n",
        "\n",
        "* Competitive Pressure: High satisfaction for lower-priced competitors may require Beats by Dre to either adjust prices or enhance product features to better meet customer expectations."
      ],
      "metadata": {
        "id": "7OdivxIJ6GCK"
      }
    },
    {
      "cell_type": "markdown",
      "source": [
        "### 5.3 Descriptive Statistics\n",
        "Discuss key findings from the descriptive statistics, highlighting any patterns, trends, or anomalies."
      ],
      "metadata": {
        "id": "MPeXScFFgOuZ"
      }
    },
    {
      "cell_type": "markdown",
      "source": [
        "* Rating vs. Helpful Count: Strong negative correlation (-0.785) indicates lower-rated reviews are marked as more helpful.\n",
        "* Price vs. Rating: Negative correlation (-8.34) suggests higher-priced products receive slightly lower ratings, likely due to higher expectations.\n",
        "* Verified Purchases: Minimal positive impact on ratings (0.0006), showing limited influence.\n",
        "* Anomalies: Extremely high correlations involving datetime may indicate data handling issues.\n",
        "* Price vs. Helpful Count: High positive correlation (198.05) suggests reviews of more expensive products are marked as more helpful.\n",
        "* Year Impact: Slight increase in ratings over time (0.229), possibly reflecting improved product quality or changing customer expectations.\n",
        "\n",
        "Overall, data shows patterns in review helpfulness, pricing effects, and some anomalies needing attention."
      ],
      "metadata": {
        "id": "wTI-FUJk73yu"
      }
    },
    {
      "cell_type": "markdown",
      "source": [
        "Key Information Relevant to Beats by Dre and Other Speakers\n",
        "\n",
        "* Consumer Distrust of Positive Reviews: High prevalence of **fake** positive reviews leads consumers to distrust 5-star ratings, which makes them rely more on lower-rated reviews.\n",
        "\n",
        "* Perception of Helpfulness: Lower-rated reviews are seen as more credible and helpful, reflecting honest customer feedback that is less likely to be manipulated.\n",
        "\n",
        "* Impact on Beats by Dre: If Beats by Dre has fewer negative reviews, consumers may view its ratings with suspicion, reducing trust. In contrast, brands with a mix of positive and negative reviews may appear more genuine, potentially impacting Beats by Dre's perceived credibility and customer satisfaction.\n",
        "\n",
        "Summary:\n",
        "* Lower-rated reviews are perceived as more helpful because of the high prevalence of fake positive reviews, leading consumers to distrust overly positive ratings and rely more on seemingly honest, negative feedback.\n",
        "\n",
        "(He et al., 2022)"
      ],
      "metadata": {
        "id": "f7stZRJe871x"
      }
    },
    {
      "cell_type": "code",
      "source": [
        "# Acquire correlation between variables\n",
        "\n",
        "# Drop non-numerics\n",
        "df_numerics = df.copy()\n",
        "df_numerics.drop(columns=['title'], inplace=True)\n",
        "df_numerics.drop(columns=['content'], inplace=True)\n",
        "df_numerics.drop(columns=['colors'], inplace=True)\n",
        "df_numerics.drop(columns=['product_id'], inplace=True)\n",
        "df_numerics.drop(columns=['release_date'], inplace=True)\n",
        "df_numerics.head()\n",
        "\n",
        "# Visualize Correlation Matrix\n",
        "sns.heatmap(corr_matrix, annot=True, cmap='coolwarm')\n",
        "plt.title('Correlation Matrix Heatmap')\n",
        "plt.show()"
      ],
      "metadata": {
        "id": "gJXHTIY1gQOz",
        "colab": {
          "base_uri": "https://localhost:8080/",
          "height": 210
        },
        "outputId": "39455381-35b4-4b01-8e34-b4664389953b"
      },
      "execution_count": null,
      "outputs": [
        {
          "output_type": "error",
          "ename": "NameError",
          "evalue": "name 'corr_matrix' is not defined",
          "traceback": [
            "\u001b[0;31m---------------------------------------------------------------------------\u001b[0m",
            "\u001b[0;31mNameError\u001b[0m                                 Traceback (most recent call last)",
            "\u001b[0;32m<ipython-input-23-cd51919c41e3>\u001b[0m in \u001b[0;36m<cell line: 13>\u001b[0;34m()\u001b[0m\n\u001b[1;32m     11\u001b[0m \u001b[0;34m\u001b[0m\u001b[0m\n\u001b[1;32m     12\u001b[0m \u001b[0;31m# Visualize Correlation Matrix\u001b[0m\u001b[0;34m\u001b[0m\u001b[0;34m\u001b[0m\u001b[0m\n\u001b[0;32m---> 13\u001b[0;31m \u001b[0msns\u001b[0m\u001b[0;34m.\u001b[0m\u001b[0mheatmap\u001b[0m\u001b[0;34m(\u001b[0m\u001b[0mcorr_matrix\u001b[0m\u001b[0;34m,\u001b[0m \u001b[0mannot\u001b[0m\u001b[0;34m=\u001b[0m\u001b[0;32mTrue\u001b[0m\u001b[0;34m,\u001b[0m \u001b[0mcmap\u001b[0m\u001b[0;34m=\u001b[0m\u001b[0;34m'coolwarm'\u001b[0m\u001b[0;34m)\u001b[0m\u001b[0;34m\u001b[0m\u001b[0;34m\u001b[0m\u001b[0m\n\u001b[0m\u001b[1;32m     14\u001b[0m \u001b[0mplt\u001b[0m\u001b[0;34m.\u001b[0m\u001b[0mtitle\u001b[0m\u001b[0;34m(\u001b[0m\u001b[0;34m'Correlation Matrix Heatmap'\u001b[0m\u001b[0;34m)\u001b[0m\u001b[0;34m\u001b[0m\u001b[0;34m\u001b[0m\u001b[0m\n\u001b[1;32m     15\u001b[0m \u001b[0mplt\u001b[0m\u001b[0;34m.\u001b[0m\u001b[0mshow\u001b[0m\u001b[0;34m(\u001b[0m\u001b[0;34m)\u001b[0m\u001b[0;34m\u001b[0m\u001b[0;34m\u001b[0m\u001b[0m\n",
            "\u001b[0;31mNameError\u001b[0m: name 'corr_matrix' is not defined"
          ]
        }
      ]
    },
    {
      "cell_type": "code",
      "source": [
        "# Create separate Dataframe with reviews\n",
        "df_reviews = pd.DataFrame()\n",
        "df_reviews['product_id'] = df['product_id']\n",
        "df_reviews['rating'] = df['rating']\n",
        "df_reviews['datetime'] = df['datetime']\n",
        "df_reviews['content'] = df['content']\n",
        "\n",
        "\n",
        "reviews = df['content']"
      ],
      "metadata": {
        "id": "jt5SrWOYEJEI"
      },
      "execution_count": null,
      "outputs": []
    },
    {
      "cell_type": "code",
      "source": [
        "# Time series analysis - Identify trends, such as seasonal spikes\n",
        "# in reviews or changes in product ratings over time.\n",
        "\n",
        "df_reviews['datetime'] = pd.to_datetime(df_reviews['datetime'])\n",
        "#Set resampling frequency\n",
        "#M = Monthly\n",
        "#Q = Quarterly\n",
        "#Y = Yearly\n",
        "df_reviews.set_index('datetime').resample('Q')['rating'].mean().plot()\n",
        "plt.title('Average Rating Over Time')\n",
        "plt.xlabel('Time')\n",
        "plt.ylabel('Average Rating')\n",
        "plt.show()"
      ],
      "metadata": {
        "id": "YuiPxD0FD6Xf"
      },
      "execution_count": null,
      "outputs": []
    },
    {
      "cell_type": "markdown",
      "source": [
        "Observations on Average Rating Over Time (Quarterly)\n",
        "\n",
        "* 2019: Persistent decline in average ratings, possibly due to unmet customer expectations, product issues, or increased competition.\n",
        "\n",
        "* 2020: Brief rating increase in the first quarter, followed by a decline, likely impacted by the COVID-19 pandemic, which altered purchasing behavior and product usage.\n",
        "\n",
        "* 2021-2023: Volatile ratings, suggesting fluctuations in consumer sentiment. Long product life cycles and unchanged product offerings may have contributed to varying reviews over time.\n",
        "\n",
        "* 2024: Recovery in ratings, reaching pre-2019 levels, indicating a potential positive shift in product quality, consumer satisfaction, or brand perception."
      ],
      "metadata": {
        "id": "DM0JGnLqEQ_P"
      }
    },
    {
      "cell_type": "code",
      "source": [
        "# Product Rating vs. Review Length\n",
        "# Scatter Plot: Examine the relationship between the length of a review and the rating given.\n",
        "# Chart Type: Scatter Plot\n",
        "# Insight: Determine if longer reviews tend to be more positive or negative\n",
        "\n",
        "df_reviews['review_length'] = df_reviews['content'].apply(len)\n",
        "plt.figure(figsize=(20, 8))\n",
        "sns.scatterplot(x='review_length', y='rating', data=df_reviews)\n",
        "sns.kdeplot(x='review_length', y='rating', data=df_reviews, levels=5, color='red', linewidths=1)\n",
        "\n",
        "plt.xticks(ticks=range(0, 9000, 200), rotation=45)\n",
        "plt.title('Review Length vs. Rating')\n",
        "plt.xlabel('Review Length')\n",
        "plt.ylabel('Rating')\n",
        "plt.show()"
      ],
      "metadata": {
        "id": "3Hl-FThXEgPE"
      },
      "execution_count": null,
      "outputs": []
    },
    {
      "cell_type": "markdown",
      "source": [
        "Observations: Review Length vs. Rating\n",
        "\n",
        "* Review Concentration: Most reviews are short (0-200 characters), regardless of rating.\n",
        "Outliers: Longer reviews exist across all ratings but are rare.\n",
        "\n",
        "Relevance to Beats by Dre\n",
        "\n",
        "* Short Reviews: Brief reviews may not capture detailed customer sentiment, leading to high sentiment scores but lower overall ratings.\n",
        "\n",
        "* Detailed Feedback in Outliers: Longer reviews could provide deeper insights into why customers rate Beats by Dre lower, revealing unmet expectations or specific issues not captured in shorter reviews."
      ],
      "metadata": {
        "id": "0Z-YUgiSFE5K"
      }
    },
    {
      "cell_type": "code",
      "source": [
        "sns.kdeplot(x='review_length', y='rating', data=df_reviews, cmap=\"Reds\", fill=True)\n",
        "plt.title('Contour Plot of Review Length vs. Rating')\n",
        "plt.xlabel('Review Length')\n",
        "plt.ylabel('Rating')\n",
        "plt.show()\n"
      ],
      "metadata": {
        "id": "KlVUJFIK9TG5"
      },
      "execution_count": null,
      "outputs": []
    },
    {
      "cell_type": "markdown",
      "source": [
        "## 6. Sentiment Analysis\n",
        "\n",
        "### 6.1 Methodology\n",
        "Explain the sentiment analysis techniques used (e.g., TextBlob, NLTK) and provide code snippets."
      ],
      "metadata": {
        "id": "-iMv0E-wgRcc"
      }
    },
    {
      "cell_type": "markdown",
      "source": [
        "NLTK (Natural Language Toolkit):\n",
        "\n",
        "**Overview: ** NLTK is a comprehensive library in Python for natural language processing (NLP). It provides tools for text processing, including tokenization, classification, stemming, tagging, parsing, and semantic reasoning.\n",
        "\n",
        "**Technique Used: ** For sentiment analysis, we use the\n",
        "Sentiment Intensity Analyzer (SIA) from NLTK, which employs the VADER (Valence Aware Dictionary and sEntiment Reasoner) lexicon. VADER is specifically tuned for analyzing sentiments expressed in social media and works well with short text snippets.\n",
        "Code Snippet:"
      ],
      "metadata": {
        "id": "2Oheythg-2fJ"
      }
    },
    {
      "cell_type": "code",
      "source": [
        "# Download the VADER lexicon\n",
        "nltk.download('vader_lexicon')\n",
        "\n",
        "# Initialize the Sentiment Intensity Analyzer\n",
        "sia = SentimentIntensityAnalyzer()\n",
        "\n",
        "# Sample text\n",
        "text = \"These apples are surprisingly amazing for the price that we bought them for\"\n",
        "\n",
        "# Perform sentiment analysis\n",
        "sentiment = sia.polarity_scores(text)\n",
        "print(sentiment)\n",
        "\n",
        "#Output: The output is a dictionary with sentiment scores: neg (negative),\n",
        "#neu (neutral), pos (positive), and compound (overall sentiment score)."
      ],
      "metadata": {
        "id": "UaW0gNO4_AKt"
      },
      "execution_count": null,
      "outputs": []
    },
    {
      "cell_type": "markdown",
      "source": [
        "**Overview:** TextBlob is a simpler library for NLP\n",
        "tasks, making it easy to perform common text processing operations. It is particularly user-friendly for sentiment analysis.\n",
        "\n",
        "**Technique Used:** TextBlob calculates sentiment polarity and subjectivity. Polarity measures the positivity or negativity of the text (-1 to 1), while subjectivity measures how much of the text is opinion-based (0 to 1)."
      ],
      "metadata": {
        "id": "Wdtf8CSg_Qfr"
      }
    },
    {
      "cell_type": "code",
      "source": [
        "from textblob import TextBlob\n",
        "\n",
        "# Sample text\n",
        "text = \"These apples are surprisingly amazing for the price that we bought them for\"\n",
        "\n",
        "# Perform sentiment analysis\n",
        "blob = TextBlob(text)\n",
        "sentiment = blob.sentiment\n",
        "print(sentiment)\n",
        "\n",
        "#Output: The output provides two metrics: polarity\n",
        "#(sentiment strength from -1 to 1) and subjectivity (degree of personal opinion from 0 to 1).\n"
      ],
      "metadata": {
        "id": "yDdrBTUX_W8S"
      },
      "execution_count": null,
      "outputs": []
    },
    {
      "cell_type": "code",
      "source": [],
      "metadata": {
        "id": "3CdtKnwPgThE"
      },
      "execution_count": null,
      "outputs": []
    },
    {
      "cell_type": "markdown",
      "source": [
        "### 6.2 Results\n",
        "Present the sentiment analysis results, including visualizations of sentiment distribution, and discuss the overall sentiment towards Beats by Dre products.\n"
      ],
      "metadata": {
        "id": "0DBNIEkXgkQl"
      }
    },
    {
      "cell_type": "markdown",
      "source": [
        "Results:\n",
        "* The sentiment analysis reveals that the reviews for Beats by Dre generally contain positive language, but this does not translate into higher product ratings.\n",
        "\n",
        "Visualizations:\n",
        "\n",
        "* The bar chart indicates that Beats by Dre has one of the higher average sentiment scores among competitors, yet actual product ratings may not align with these sentiments.\n",
        "\n",
        "Discussion of Overall Sentiment:\n",
        "\n",
        "* The overall sentiment toward Beats by Dre products is positive in textual content but may be tempered by unmet expectations, price sensitivity, or other specific disappointments that lead to lower final ratings. This suggests a gap between perceived value and customer expectations that the brand might need to address to improve its ratings."
      ],
      "metadata": {
        "id": "_4sZ4UDuCY8w"
      }
    },
    {
      "cell_type": "code",
      "source": [
        "def get_sentiment(review):\n",
        "  return sia.polarity_scores(review)\n",
        "\n",
        "df_reviews['sentiment'] = reviews.apply(get_sentiment)"
      ],
      "metadata": {
        "id": "z5_PY_epAJ0N"
      },
      "execution_count": null,
      "outputs": []
    },
    {
      "cell_type": "code",
      "source": [
        "# Extract sentiment scores into their own columns\n",
        "df_reviews['neg'] = df_reviews['sentiment'].apply(lambda x: x['neg'])\n",
        "df_reviews['neu'] = df_reviews['sentiment'].apply(lambda x: x['neu'])\n",
        "df_reviews['pos'] = df_reviews['sentiment'].apply(lambda x: x['pos'])\n",
        "df_reviews['compound'] = df_reviews['sentiment'].apply(lambda x: x['compound'])\n"
      ],
      "metadata": {
        "id": "kLwKgZeqANzX"
      },
      "execution_count": null,
      "outputs": []
    },
    {
      "cell_type": "code",
      "source": [
        "df_reviews.head()"
      ],
      "metadata": {
        "id": "rq7VFe9bAUXI"
      },
      "execution_count": null,
      "outputs": []
    },
    {
      "cell_type": "code",
      "source": [
        "# Using TextBlob\n",
        "\n",
        "df_reviews['sentiment_textblob'] = df['content'].apply(lambda x: TextBlob(x).sentiment)\n",
        "df_reviews['polarity'] = df_reviews['sentiment_textblob'].apply(lambda x: x.polarity)\n",
        "df_reviews['subjectivity'] = df_reviews['sentiment_textblob'].apply(lambda x: x.subjectivity)\n",
        "df_reviews.head()\n",
        "df_reviews.to_csv('filename.csv', index=False)"
      ],
      "metadata": {
        "id": "U0ovJc_cBAiY"
      },
      "execution_count": null,
      "outputs": []
    },
    {
      "cell_type": "code",
      "source": [
        "# Average sentiment score per product\n",
        "\n",
        "product_sentiments = df_reviews.groupby('product_id')['polarity'].mean().reset_index()\n",
        "product_sentiments = product_sentiments.sort_values(by='polarity', ascending=True)\n",
        "sns.barplot(x='product_id', y='polarity', data=product_sentiments)\n",
        "plt.xticks(rotation=45)\n",
        "plt.title('Average Sentiment Score per Product')\n",
        "plt.xlabel('Product')\n",
        "plt.ylabel('Average Sentiment Score')\n",
        "plt.figure(figsize=(15, 6))\n",
        "plt.show()"
      ],
      "metadata": {
        "id": "gWmjlTWGBf0V"
      },
      "execution_count": null,
      "outputs": []
    },
    {
      "cell_type": "markdown",
      "source": [
        "Observations:\n",
        "\n",
        "Expectations vs. Reality:\n",
        "* Customers may have high expectations for Beats by Dre due to its strong brand reputation. When the product doesn't fully meet these expectations, even slightly, customers may rate it lower despite mentioning some positive aspects in their reviews.\n",
        "\n",
        "Brand Premium Effect:\n",
        "* As a premium brand, Beats by Dre products are often priced higher. Customers might expect top-tier performance and quality for the price they pay. If they perceive any shortcomings, their overall rating could be negatively impacted, regardless of some positive features they discuss.\n",
        "\n",
        "Selective Emphasis in Reviews:\n",
        "* In reviews, customers may mention specific positive features (e.g., sound quality) while still rating the product lower due to other issues (e.g., durability, value for money). This can cause a mismatch between the sentiment expressed in the text and the overall rating given."
      ],
      "metadata": {
        "id": "XOEV-moJCml7"
      }
    },
    {
      "cell_type": "code",
      "source": [
        "# Comparison between review sentiment analysis and average ratings\n",
        "\n",
        "#Step 2: Reduce the size of the DataFrame by selecting only the necessary columns\n",
        "df_reviews_subset = df_reviews[['product_id', 'polarity', 'rating']]\n",
        "\n",
        "# Group by 'product_id' and calculate the mean for 'polarity' and 'rating'\n",
        "product_sentiments = df_reviews_subset.groupby('product_id')['polarity'].mean().reset_index()\n",
        "product_ratings = df_reviews_subset.groupby('product_id')['rating'].mean().reset_index()\n",
        "\n",
        "# Normalize ratings to the range of polarity scores\n",
        "# Assuming polarity ranges from -1 to 1, we normalize ratings similarly\n",
        "min_rating = product_ratings['rating'].min()\n",
        "max_rating = product_ratings['rating'].max()\n",
        "\n",
        "# Normalize ratings to be between -1 and 1\n",
        "product_ratings['normalized_rating'] = 2 * (product_ratings['rating'] - min_rating) / (max_rating - min_rating) - 1\n",
        "\n",
        "# Merge the data on 'product_id'\n",
        "combined_data = pd.merge(product_sentiments, product_ratings[['product_id', 'normalized_rating']], on='product_id')\n",
        "\n",
        "# Set the position of the bars\n",
        "bar_width = 0.4\n",
        "r1 = np.arange(len(combined_data))\n",
        "r2 = [x + bar_width for x in r1]\n",
        "\n",
        "plt.figure(figsize=(15, 6))\n",
        "\n",
        "# Plot the bars\n",
        "plt.bar(r1, combined_data['polarity'], color='blue', width=bar_width, edgecolor='grey', label='Sentiment Score')\n",
        "plt.bar(r2, combined_data['normalized_rating'], color='orange', width=bar_width, edgecolor='grey', label='Normalized Rating')\n",
        "\n",
        "# Add labels and title\n",
        "plt.xlabel('Product')\n",
        "plt.ylabel('Score')\n",
        "plt.title('Comparison of Average Sentiment Score and Normalized Rating per Product')\n",
        "plt.xticks([r + bar_width / 2 for r in range(len(combined_data))], combined_data['product_id'], rotation=45)\n",
        "\n",
        "# Add a legend\n",
        "plt.legend()\n",
        "\n",
        "# Show the plot\n",
        "plt.show()\n"
      ],
      "metadata": {
        "id": "mQeFTvphCu25"
      },
      "execution_count": null,
      "outputs": []
    },
    {
      "cell_type": "code",
      "source": [
        "#Scale the sentiment scores vs the review ratings\n",
        "\n",
        "# Step 2: Reduce the size of the DataFrame by selecting only the necessary columns\n",
        "df_reviews_subset = df_reviews[['product_id', 'polarity', 'rating']]\n",
        "\n",
        "# Group by 'product_id' and calculate the mean for 'polarity' and 'rating'\n",
        "product_sentiments = df_reviews_subset.groupby('product_id')['polarity'].mean().reset_index()\n",
        "product_ratings = df_reviews_subset.groupby('product_id')['rating'].mean().reset_index()\n",
        "\n",
        "# Scaling the ratings by a factor to match the range of polarity\n",
        "scaling_factor = 0.2  # Adjust this factor based on your needs\n",
        "product_ratings['scaled_rating'] = product_ratings['rating'] * scaling_factor\n",
        "\n",
        "# Merge the data on 'product_id'\n",
        "combined_data = pd.merge(product_sentiments, product_ratings[['product_id', 'scaled_rating']], on='product_id')\n",
        "\n",
        "# Set the position of the bars\n",
        "bar_width = 0.4\n",
        "r1 = np.arange(len(combined_data))\n",
        "r2 = [x + bar_width for x in r1]\n",
        "\n",
        "plt.figure(figsize=(15, 6))\n",
        "\n",
        "# Plot the bars\n",
        "plt.bar(r1, combined_data['polarity'], color='blue', width=bar_width, edgecolor='grey', label='Sentiment Score')\n",
        "plt.bar(r2, combined_data['scaled_rating'], color='orange', width=bar_width, edgecolor='grey', label='Scaled Rating')\n",
        "\n",
        "# Add labels and title\n",
        "plt.xlabel('Product')\n",
        "plt.ylabel('Score')\n",
        "plt.title('Comparison of Average Sentiment Score and Scaled Rating per Product')\n",
        "plt.xticks([r + bar_width / 2 for r in range(len(combined_data))], combined_data['product_id'], rotation=45)\n",
        "\n",
        "# Add a legend\n",
        "plt.legend()\n",
        "\n",
        "# Show the plot\n",
        "plt.show()"
      ],
      "metadata": {
        "id": "zzQTRYg8DEoe"
      },
      "execution_count": null,
      "outputs": []
    },
    {
      "cell_type": "markdown",
      "source": [
        "Observations: Beats by Dre Sentiment vs. Scaled Rating\n",
        "\n",
        "* Discrepancy Noted: Beats by Dre has a high sentiment score but a lower scaled rating, unlike brands like Amazon, Anker, and Bang & Olufsen, where scores align more closely.\n",
        "\n",
        "Potential Causes:\n",
        "* NLP Limitations: Sentiment analysis may miss nuanced criticisms within positive reviews.\n",
        "* Conservative Ratings: Positive sentiments are offset by lower ratings due to unmet expectations or perceived shortcomings.\n",
        "* Reviewer Bias: As a popular brand, Beats by Dre faces higher expectations, leading to stricter ratings.\n",
        "\n",
        "Implications:\n",
        "* Customers appreciate aspects of Beats by Dre but are critical due to high brand expectations.\n",
        "* Addressing specific product concerns and managing expectations may help close the gap between sentiment and ratings.\n",
        "\n"
      ],
      "metadata": {
        "id": "_x4gCwyvDYhM"
      }
    },
    {
      "cell_type": "code",
      "source": [
        "df_reviews.head()"
      ],
      "metadata": {
        "id": "p5UMz09mF0nQ"
      },
      "execution_count": null,
      "outputs": []
    },
    {
      "cell_type": "code",
      "source": [
        "# Sentiment Distribution for Top Products\n",
        "# Violin Plot: Show the distribution of sentiment scores for the top products.\n",
        "# Chart Type: Violin Plot\n",
        "# Insight: Compare sentiment variability across top products.\n",
        "\n",
        "top_products = df_reviews['product_id'].value_counts().head(5).index\n",
        "sns.violinplot(x='product_id', y='polarity', data=df_reviews[df_reviews['product_id'].isin(top_products)])\n",
        "plt.title('Sentiment Distribution for Top Products')\n",
        "plt.xlabel('Product')\n",
        "plt.ylabel('Polarity')\n",
        "plt.show()\n"
      ],
      "metadata": {
        "id": "FffVXjA9Fexh"
      },
      "execution_count": null,
      "outputs": []
    },
    {
      "cell_type": "markdown",
      "source": [
        "Observations: Sentiment Distribution for Top Products\n",
        "\n",
        "Sentiment Spread:\n",
        "* All products show a wide range of sentiment polarity, from negative (-0.75) to positive (1.0).\n",
        "Most sentiments are concentrated around neutral to slightly positive (0 to 0.5), indicating mixed feelings among customers.\n",
        "\n",
        "Distribution Similarity:\n",
        "* The sentiment distribution shapes are similar across products like Amazon, Anker, Bang & Olufsen, Bose, and Doss, suggesting that consumer sentiment tends to vary similarly for different brands.\n",
        "\n",
        "Relevance to Beats by Dre\n",
        "* Although Beats by Dre isn't depicted, similar sentiment patterns could be expected. High brand recognition may lead to a diverse range of sentiments due to varying customer expectations, resulting in a similar spread from negative to positive. Addressing specific concerns highlighted in more polarized reviews could help improve overall product perception."
      ],
      "metadata": {
        "id": "B4dNPp8PGFMe"
      }
    },
    {
      "cell_type": "code",
      "source": [
        "# Categorize into buckets of positive, negative, or neutral sentiment\n",
        "\n",
        "def sentiment_analysis_summary(df, text_col):\n",
        "  sentiments = {'Positive':0, 'Negative':0, 'Neutral':0}\n",
        "  for r in df[text_col]:\n",
        "    blob = TextBlob(r)\n",
        "    polarity = blob.sentiment.polarity\n",
        "    if polarity > 0:\n",
        "      sentiments['Positive'] += 1\n",
        "    elif polarity < 0:\n",
        "      sentiments['Negative'] += 1\n",
        "    else:\n",
        "      sentiments['Neutral'] += 1\n",
        "  return sentiments\n",
        "\n",
        "\n",
        "sentiment_analysis_summary(df_reviews, 'content')\n",
        "\n"
      ],
      "metadata": {
        "id": "S5HTCBC3GMrE"
      },
      "execution_count": null,
      "outputs": []
    },
    {
      "cell_type": "code",
      "source": [
        "# Aggregate sentiment scores to assess overall consumer sentiment\n",
        "\n",
        "# Count the number of reviews in each sentiment category\n",
        "sentiment_summary = df_reviews['sentiment'].value_counts()\n",
        "\n",
        "# Calculate the percentage of each sentiment\n",
        "sentiment_summary_percentage = df_reviews['sentiment'].value_counts(normalize=True) * 100\n",
        "\n",
        "# Output the result\n",
        "print(\"Sentiment Summary:\")\n",
        "print(sentiment_summary)\n",
        "print(\"\\nSentiment Summary (Percentage):\")\n",
        "print(sentiment_summary_percentage)"
      ],
      "metadata": {
        "id": "1frIcQ5yGStk"
      },
      "execution_count": null,
      "outputs": []
    },
    {
      "cell_type": "markdown",
      "source": [
        "## 7. AI-Generated Insights\n",
        "\n",
        "### 7.1 Using Gemini AI\n",
        "Briefly explain how Gemini AI was used to extract insights and include any relevant code snippets or explanations."
      ],
      "metadata": {
        "id": "DNwZT81EgnZx"
      }
    },
    {
      "cell_type": "markdown",
      "source": [
        "Gemini AI was used to analyze customer reviews and extract sentiment insights by processing text data. The tool leverages natural language processing (NLP) to identify patterns, key themes, and overall sentiment (positive, negative, neutral) within large datasets."
      ],
      "metadata": {
        "id": "c0_bUUpwG-ZJ"
      }
    },
    {
      "cell_type": "code",
      "source": [
        "from getpass import getpass\n",
        "\n",
        "os.environ['GEMINI_API_KEY'] = getpass('Enter your Gemini API key:')\n",
        "\n",
        "\n",
        "# Function to analyze reviews using Gemini AI\n",
        "def analyze_reviews (reviews, api_key, prompt):\n",
        "  genai.configure(api_key=api_key)\n",
        "  model = genai. GenerativeModel(\n",
        "      model_name=\"gemini-1.5-flash\",\n",
        "      generation_config={\n",
        "      \"temperature\": 1,\n",
        "      \"top_p\": 0.95,\n",
        "      \"top_k\": 64,\n",
        "      \"max_output_tokens\": 8192,\n",
        "      \"response_mime_type\": \"text/plain\",\n",
        "    },\n",
        "  )\n",
        "\n",
        "  chat_session = model.start_chat(history=[])\n",
        "  response = chat_session.send_message(prompt)\n",
        "  return response.text"
      ],
      "metadata": {
        "id": "c7FOv7m_gttl"
      },
      "execution_count": null,
      "outputs": []
    },
    {
      "cell_type": "code",
      "source": [
        "base = df_reviews[['product_id', 'content']]\n",
        "base"
      ],
      "metadata": {
        "id": "_C9duiJbIN7Y"
      },
      "execution_count": null,
      "outputs": []
    },
    {
      "cell_type": "markdown",
      "source": [
        "### 7.2 Key Insights\n",
        "Summarize the key insights generated by Gemini AI, including specific examples of prompts used and the responses received.\n"
      ],
      "metadata": {
        "id": "Ytb0BYEqgpfB"
      }
    },
    {
      "cell_type": "markdown",
      "source": [
        "Key Insights Summarized\n",
        "\n",
        "Overall, customers appreciate speakers that balance sound quality, durability, ease of use, and price. However, connectivity issues, app limitations, and some specific sound quality concerns are common drawbacks.\n",
        "\n",
        "Common Findings Across All Reviews:\n",
        "\n",
        "1. Common Complaints or Issues:\n",
        "* Sound Quality Issues:\n",
        "Lack of deep bass or muddy bass at high volumes.\n",
        "Issues with midrange clarity and treble harshness.\n",
        "Spatial or stereo sound features not performing as expected.\n",
        "* Connectivity Problems:\n",
        "Frequent Wi-Fi and Bluetooth connection drops or difficulties in pairing.\n",
        "Problems with multi-device connectivity and audio synchronization.\n",
        "* Battery and Charging Concerns:\n",
        "Battery life not meeting advertised duration, especially with advanced features enabled.\n",
        "Complaints about charging issues or short charging cables.\n",
        "* App and Feature Limitations:\n",
        "Users report app bugs, limited features, or a lack of customization options.\n",
        "Discontent with mandatory app use for essential functions.\n",
        "* Physical and Design Concerns:\n",
        "Size and weight affecting portability.\n",
        "Limited color options or aesthetic features.\n",
        "Durability concerns with refurbished products or specific components.\n",
        "2. Ease of Use:\n",
        "* Generally Positive Feedback:\n",
        "Most products are praised for easy setup and straightforward controls.\n",
        "Seamless Bluetooth connectivity and user-friendly apps (with some exceptions).\n",
        "Portability and intuitive design are frequently mentioned.\n",
        "* Minor Usability Issues:\n",
        "Occasional difficulty with setup instructions or connecting to multiple devices.\n",
        "Some features, such as spatial audio or advanced sound modes, require specific placements or settings, which can be challenging.\n",
        "3. Reasons for Purchase:\n",
        "* Sound Quality:\n",
        "Many users prioritize rich, clear sound with good bass and balanced audio for a variety of music genres.\n",
        "Speakers with customizable EQ settings are particularly appealing.\n",
        "* Design and Portability:\n",
        "Compact, durable designs with waterproof or rugged features are highly valued for outdoor use.\n",
        "Lightweight and easy-to-carry speakers with practical design elements like handles or straps are preferred.\n",
        "* Value for Money:\n",
        "High sound quality and durability for the price point, especially when discounted or on sale.\n",
        "Attractive offers on refurbished or renewed models.\n",
        "* Brand Trust and Features:\n",
        "Well-known brands and built-in features like smart assistants (Alexa) add to the purchase appeal.\n",
        "Specific features like multi-device connectivity, long battery life, and unique sound enhancement modes are key selling points.\n",
        "\n"
      ],
      "metadata": {
        "id": "7p7DQxnHJxbO"
      }
    },
    {
      "cell_type": "code",
      "source": [
        "# Analyzing the main contents\n",
        "# Extracting Pain Points:\n",
        "# To identify common issues or complaints in customer reviews, you\n",
        "# can create a prompt that specifically asks Gemini AI to summarize the negative aspects.\n",
        "\n",
        "# Create individual dataframes for each product ID\n",
        "amazon_df = base[base['product_id'] == 'Amazon']\n",
        "anker_df = base[base['product_id'] == 'Anker']\n",
        "bg_df = base[base['product_id'] == 'Bang & Olufsen']\n",
        "beats_df = base[base['product_id'] == 'Beats']\n",
        "bose_df = base[base['product_id'] == 'Bose']\n",
        "doss_df = base[base['product_id'] == 'Doss']\n",
        "jbl_df = base[base['product_id'] == 'JBL']\n",
        "sony_df = base[base['product_id'] == 'Sony']\n",
        "ue_df = base[base['product_id'] == 'Ultimate Ears']\n",
        "yamaha_df = base[base['product_id'] == 'Yamaha']"
      ],
      "metadata": {
        "id": "qiHC7YZigtVP"
      },
      "execution_count": null,
      "outputs": []
    },
    {
      "cell_type": "code",
      "source": [
        "# Define the base prompt\n",
        "pmt1 = \"Analyze the following reviews and summarize the reviews and key pain points. :\\\\n\\\\n\"\n",
        "\n",
        "# Function to get unique insights for each DataFrame\n",
        "def get_unique_insights(df, prompt):\n",
        "    pmt_o = prompt.join(df)\n",
        "    analysis = analyze_reviews(df, os.environ['GEMINI_API_KEY'], pmt_o)\n",
        "    print(analysis)\n",
        "    return analysis\n",
        "\n",
        "# List of DataFrames\n",
        "dfs = [amazon_df, anker_df, bg_df, beats_df, bose_df, doss_df, jbl_df, sony_df, ue_df, yamaha_df]\n",
        "\n",
        "# Loop through each DataFrame to analyze reviews\n",
        "for df in dfs:\n",
        "    get_unique_insights(df['content'], pmt1)\n"
      ],
      "metadata": {
        "id": "xVkvhHClIVqg"
      },
      "execution_count": null,
      "outputs": []
    },
    {
      "cell_type": "code",
      "source": [
        "# Unique Insight 1 -\n",
        "# Identify common complaints across all devices\n",
        "\n",
        "pmt2 = 'Identify the most common complaints or issues mentioned in these reviews'\n",
        "for df in dfs:\n",
        "    get_unique_insights(df['content'], pmt2)\n"
      ],
      "metadata": {
        "id": "-XcXJGLCIcu5"
      },
      "execution_count": null,
      "outputs": []
    },
    {
      "cell_type": "code",
      "source": [
        "# Unique Insight 2 -\n",
        "# \"How do customers describe the ease of use or usability of the product in these reviews?\"\n",
        "\n",
        "pmt3 = \"How do customers describe the ease of use or usability of the product in these reviews?\"\n",
        "for df in dfs:\n",
        "    get_unique_insights(df['content'], pmt3)"
      ],
      "metadata": {
        "id": "1l2KICpOI-5L"
      },
      "execution_count": null,
      "outputs": []
    },
    {
      "cell_type": "code",
      "source": [
        "# Unique Insight 3\n",
        "# \"What reasons do customers give for purchasing this product based on these reviews?\"\n",
        "\n",
        "pmt4 = \"What reasons do customers give for purchasing this product based on these reviews?\"\n",
        "for df in dfs:\n",
        "    get_unique_insights(df['content'], pmt4)"
      ],
      "metadata": {
        "id": "VuAO5qTUJot7"
      },
      "execution_count": null,
      "outputs": []
    },
    {
      "cell_type": "markdown",
      "source": [
        "### 7.3 Interpretation\n",
        "Discuss how these insights can be interpreted and their relevance to Beats by Dre."
      ],
      "metadata": {
        "id": "Xnipe_rYgvQG"
      }
    },
    {
      "cell_type": "markdown",
      "source": [
        "The insights highlight key areas for Beats by Dre to enhance its product offerings:\n",
        "\n",
        "1. Sound Quality: Prioritize clear, balanced audio across all frequencies, not just bass. Offer customizable EQ settings to cater to individual preferences.\n",
        "2. Connectivity: Improve Bluetooth and Wi-Fi stability to minimize connection issues and enhance compatibility with various smart home ecosystems.\n",
        "3. Ease of Use: Focus on intuitive setup, simplified controls, and reducing app dependency for basic functions to appeal to a broader audience.\n",
        "4. Battery Life and Portability: Ensure consistent battery performance, especially when using advanced features. Emphasize portability in design without sacrificing sound quality.\n",
        "5. Durability and Design: Enhance product durability with materials that withstand outdoor use while maintaining aesthetic appeal. Consider expanding color options.\n",
        "6. Pricing and Value: Emphasize the value through superior quality, innovative features, and occasional promotions to align with consumer expectations of competitive pricing.\n",
        "\n",
        "By addressing these areas, Beats by Dre can better meet consumer needs, differentiate from competitors, and maintain its position as a premium audio brand."
      ],
      "metadata": {
        "id": "mQVr26prMEiz"
      }
    },
    {
      "cell_type": "code",
      "source": [],
      "metadata": {
        "id": "G4QUIXBagvsr"
      },
      "execution_count": null,
      "outputs": []
    },
    {
      "cell_type": "markdown",
      "source": [
        "## 8. Comparative Analysis\n",
        "\n",
        "### 8.1 Competitor Overview\n",
        "List the competitors analyzed and provide a brief overview of their market positioning."
      ],
      "metadata": {
        "id": "GERtyCkwgxYw"
      }
    },
    {
      "cell_type": "markdown",
      "source": [
        "The following products were analyzed as competitors to the Beats Pill+ (Renewed):\n",
        "\n",
        "1. DOSS Extreme Boom Party Sync\n",
        "* Market Positioning: A mid-range Bluetooth speaker known for its high output (100W stereo sound) and enhanced features like rich bass, 20-hour playtime, a built-in power bank, and a mixed-color light feature. The DOSS Extreme Boom is targeted at users looking for a durable, outdoor-friendly speaker with a strong bass performance and additional utility features such as waterproofing (IPX6 rating) for camping, beach, or outdoor use.\n",
        "* [DOSS Extreme Boom Party Sync](https://www.amazon.com/DOSS-Extreme-Boom-Party-Sync-Travel-Copper/dp/B0CZN6J824/)\n",
        "2. Sony ULT Field 1\n",
        "* Market Positioning: A versatile Bluetooth speaker designed for durability and portability. It is waterproof, shockproof, and features a detachable strap for easy transport. Sony's ULT Field 1 targets users who want a reliable speaker with good sound quality for outdoor adventures, providing strong battery life and durability.\n",
        "* [Sony ULT Field 1](https://www.amazon.com/Sony-Bluetooth-Waterproof-Shockproof-Detachable/dp/B0CXKSCY1G/)\n",
        "3. Bose SoundLink Flex\n",
        "* Market Positioning: Positioned as a premium portable speaker with Bose's signature sound quality. It offers robust features such as waterproofing (IP67 rating), rugged durability, and a long-lasting battery. The SoundLink Flex is aimed at consumers who prioritize high-quality sound and durable design, suitable for both home and outdoor use.\n",
        "* [Bose SoundLink Flex](https://www.amazon.com/Bose-SoundLink-Bluetooth-Portable-Waterproof/dp/B099TJGJ91/)\n",
        "4. JBL Flip Essential 2\n",
        "* Market Positioning: A mid-tier portable Bluetooth speaker known for its durability, water resistance, and balanced sound profile. The JBL Flip Essential 2 targets consumers looking for a reliable and affordable speaker for casual listening, especially in outdoor settings. It is popular among younger audiences for its rugged design and portability.\n",
        "* [JBL Flip Essential 2](https://www.amazon.com/JBL-Waterproof-Portable-Bluetooth-Speaker/dp/B07QK2SPP7/)\n",
        "5. Ultimate Ears WONDERBOOM 3\n",
        "* Market Positioning: A compact, waterproof Bluetooth speaker designed for portability and ruggedness. With a 360-degree sound output and floatable design, it appeals to active users who need a speaker that can handle various environments, including water. The WONDERBOOM 3 is positioned towards a younger demographic seeking a fun, durable speaker for adventurous activities.\n",
        "* [Ultimate Ears WONDERBOOM 3](https://www.amazon.com/WONDERBOOM-Bluetooth-360-Degree-Waterproof-Dustproof/dp/B09KX6RT7Q)\n",
        "6. Anker Soundcore Motion X600\n",
        "* Market Positioning: A budget-friendly option offering good sound quality and durability. Known for its affordability, the Anker Soundcore line targets consumers who want reliable audio performance without a high price tag, providing features such as long battery life, water resistance, and multiple connectivity options.\n",
        "* [Anker Soundcore Motion X600](https://www.amazon.com/gp/product/B0BXW4KKXK)\n",
        "7. Amazon Echo Studio\n",
        "* Market Positioning: A high-end smart speaker with Alexa integration, designed to provide superior sound quality with spatial audio features like Dolby Atmos. The Echo Studio targets consumers who are looking for a smart home hub with advanced sound capabilities, combining convenience with high-quality audio for home use.\n",
        "* [Amazon Echo Studio](https://www.amazon.com/Echo-Studio/dp/B07G9Y3ZMC)\n",
        "8. Yamaha YAS-209 Soundbar\n",
        "* Market Positioning: A soundbar and subwoofer combo aimed at home entertainment setups. Yamaha's YAS-209 offers clear voice technology, Alexa integration, and wireless subwoofer capabilities, targeting users who want to improve their TV sound quality with additional smart features.\n",
        "* [Yamaha YAS-209 Soundbar](https://www.amazon.com/Yamaha-YAS-209-Wireless-Subwoofer-Bluetooth/dp/B07T5GGR8L)\n",
        "9. Bang & Olufsen Beosound Explore\n",
        "* Market Positioning: A premium portable speaker that combines luxury design with high-quality sound. The Beosound Explore is water-resistant, robust, and offers extended battery life, aimed at consumers who prioritize aesthetics and superior audio performance in a portable package.\n",
        "* [Bang & Olufsen Beosound Explore](https://www.amazon.com/Bang-Olufsen-Beosound-Explore-Waterproof/dp/B09NWBZ7T3)"
      ],
      "metadata": {
        "id": "4jfalFgmN71I"
      }
    },
    {
      "cell_type": "code",
      "source": [],
      "metadata": {
        "id": "YbbyHGtOgx3O"
      },
      "execution_count": null,
      "outputs": []
    },
    {
      "cell_type": "markdown",
      "source": [
        "### 8.2 Comparison of Sentiments\n",
        "Compare the sentiment analysis results of Beats by Dre with its competitors using visualizations to highlight differences and similarities."
      ],
      "metadata": {
        "id": "AGLyuZ8ggyf7"
      }
    },
    {
      "cell_type": "markdown",
      "source": [
        "1. Sentiment Distribution for Top Products (Violin Plot)\n",
        "* Amazon and Bose show a broader distribution of sentiment, ranging from very negative to highly positive. This indicates mixed customer experiences, with some users having extremely positive sentiments while others are quite negative.\n",
        "* Anker, Bang & Olufsen, and Doss have narrower distributions that are more centered around a positive range. This suggests a more consistent customer experience, where most feedback is moderately positive.\n",
        "* Amazon and Bose may have variability in their product performance or customer expectations, leading to a wider range of sentiment scores.\n",
        "2. Comparison of Average Sentiment Score and Scaled Rating per Product (Bar Chart)\n",
        "* Anker and JBL show a strong alignment between sentiment scores and scaled ratings, suggesting that customer reviews generally match the overall product ratings.\n",
        "* Beats and Bose show relatively higher sentiment scores compared to their scaled ratings, indicating that while customers may express positive sentiments, they might still rate the product conservatively. This could reflect high customer expectations not fully met by the product.\n",
        "* Yamaha has the lowest sentiment score and rating alignment, suggesting a disconnect between customer satisfaction and their overall product experience. This might imply significant dissatisfaction or unmet expectations.\n",
        "3. Comparison of Average Sentiment Score and Normalized Rating per Product (Bar Chart)\n",
        "* Anker and Bose have high normalized ratings relative to their sentiment scores, suggesting that while individual reviews may express mixed feelings, the overall ratings are more favorable.\n",
        "* Yamaha has a markedly lower normalized rating, which aligns with its lower sentiment score. This could indicate consistent dissatisfaction or issues across its customer base.\n",
        "* JBL and Beats show relatively high normalized ratings, indicating that despite mixed or average sentiment scores, customers tend to give them better overall ratings.\n",
        "4. Average Sentiment Score per Product (Bar Chart)\n",
        "* JBL and Beats have the highest average sentiment scores, suggesting that customers generally have a more positive perception of these brands compared to others.\n",
        "* Yamaha has the lowest average sentiment score, indicating that it might be struggling with customer satisfaction.\n",
        "* Other brands like Amazon, Anker, Bang & Olufsen, Doss, and Sony are clustered closer together in terms of average sentiment, suggesting a generally favorable but not outstanding perception.\n",
        "\n",
        "Overall Insights:\n",
        "* Beats by Dre shows a higher sentiment score but does not necessarily have the highest scaled ratings, which could suggest that while customers speak positively about the brand, their ratings might be moderated by certain unmet expectations or specific issues.\n",
        "* JBL consistently performs well in both sentiment score and scaled ratings, indicating strong customer satisfaction and perceived value.\n",
        "* Yamaha appears to be the weakest performer in terms of both sentiment and ratings, suggesting it needs to address specific product or service-related concerns to improve customer perception.\n",
        "* The sentiment scores suggest that JBL and Beats are currently leading in customer satisfaction among the brands analyzed, while Yamaha may need significant improvements to compete effectively."
      ],
      "metadata": {
        "id": "bFmQmgmFPX4M"
      }
    },
    {
      "cell_type": "code",
      "source": [],
      "metadata": {
        "id": "8eAPHehbg5hR"
      },
      "execution_count": null,
      "outputs": []
    },
    {
      "cell_type": "markdown",
      "source": [
        "### 8.3 SWOT Analysis\n",
        "Conduct a SWOT analysis (Strengths, Weaknesses, Opportunities, Threats) for Beats by Dre based on the comparative data."
      ],
      "metadata": {
        "id": "LEwiDwEZg4zK"
      }
    },
    {
      "cell_type": "markdown",
      "source": [
        "Strengths:\n",
        "* High average sentiment score indicates strong brand perception.\n",
        "* Well-recognized brand with a loyal customer base.\n",
        "\n",
        "Weaknesses:\n",
        "* Lower scaled ratings suggest unmet customer expectations.\n",
        "* Limited differentiation in product features compared to competitors.\n",
        "\n",
        "Opportunities:\n",
        "* Expand features to align with customer preferences (e.g., battery life, waterproofing).\n",
        "* Leverage positive sentiment to increase market share.\n",
        "\n",
        "Threats:\n",
        "* Intense competition from brands like Bose, JBL, and Sony.\n",
        "* Risk of negative sentiment due to high customer expectations."
      ],
      "metadata": {
        "id": "sF0Jf9H0P_yF"
      }
    },
    {
      "cell_type": "code",
      "source": [],
      "metadata": {
        "id": "Pi9u_ppmg7qq"
      },
      "execution_count": null,
      "outputs": []
    },
    {
      "cell_type": "markdown",
      "source": [
        "## 9. Strategic Recommendations\n",
        "\n",
        "### 9.1 Product Improvements\n",
        "Based on the analysis, suggest specific product improvements."
      ],
      "metadata": {
        "id": "-cjwuRIbg9ud"
      }
    },
    {
      "cell_type": "markdown",
      "source": [
        "1. Quality Consistency: The data indicates some volatility in ratings between 2021 and 2023, which suggests potential inconsistencies in product quality. Ensuring consistent product quality, especially in the more affordable product range ($50-$150), could help maintain higher customer satisfaction.\n",
        "2. Enhanced User Experience: Some reviews show a discrepancy between sentiment and ratings, indicating that while customers may express positive sentiments, their overall ratings do not always match. This could suggest unmet expectations or product performance issues.\n",
        "3. Addressing common pain points, such as battery life, sound quality, or product durability, could help bridge this gap.\n",
        "4. Targeted Pricing Strategy: As lower-priced products ($50-$150) tend to have higher satisfaction rates, it would be beneficial to maintain or expand offerings in this range. Introducing features typically found in higher-priced models into this segment could enhance perceived value.\n",
        "5. Customer Education and Support: To address the discrepancies between perceived quality and actual product ratings, investing in customer education (e.g., product guides, usage tips) and support services (like extended warranties or easy return policies) might help manage customer expectations better and improve overall satisfaction.\n",
        "6. Improved Feedback Loop: Incorporating customer feedback more effectively into product development cycles can address specific concerns and improve future iterations of the product."
      ],
      "metadata": {
        "id": "J_4zbS9bRGU8"
      }
    },
    {
      "cell_type": "code",
      "source": [],
      "metadata": {
        "id": "nqciPXPWhAre"
      },
      "execution_count": null,
      "outputs": []
    },
    {
      "cell_type": "markdown",
      "source": [
        "### 9.2 Marketing Strategies\n",
        "Provide recommendations for marketing strategies that could enhance consumer perception and satisfaction."
      ],
      "metadata": {
        "id": "2bsNlkdlhBot"
      }
    },
    {
      "cell_type": "markdown",
      "source": [
        "1. Leverage Customer Reviews and Testimonials\n",
        "* Strategy: Showcase positive customer reviews and testimonials to build trust and credibility.\n",
        "* Action: Highlight reviews on the website and social media; encourage satisfied customers and influencers to share their experiences (Patel, 2023).\n",
        "2. Optimize Content Marketing and SEO\n",
        "* Strategy: Create targeted content that aligns with the interests of music lovers, athletes, and style-conscious consumers.\n",
        "* Action: Develop blogs and videos on topics like “Best Headphones for Running” and collaborate with influencers to boost SEO visibility (Patel, 2023).\n",
        "3. Use Limited-Time Offers and Promotions\n",
        "* Strategy: Encourage quicker purchase decisions with time-sensitive deals.\n",
        "* Action: Run seasonal promotions, student discounts, and exclusive deals to create urgency and leverage FOMO (Patel, 2023).\n",
        "4. Cross-Selling and Upselling\n",
        "* Strategy: Promote accessories and premium versions to existing customers.\n",
        "* Action: Recommend complementary products and features, such as cases or noise-canceling options, during the checkout process (Patel, 2023)."
      ],
      "metadata": {
        "id": "wKo1leqVRyWw"
      }
    },
    {
      "cell_type": "code",
      "source": [],
      "metadata": {
        "id": "hv2xVAOKhEBA"
      },
      "execution_count": null,
      "outputs": []
    },
    {
      "cell_type": "markdown",
      "source": [
        "### 9.3 Future Research\n",
        "Suggest areas for future research or additional data that could be collected to further enhance the analysis."
      ],
      "metadata": {
        "id": "vmvfoXy_hG_d"
      }
    },
    {
      "cell_type": "markdown",
      "source": [
        "1. Detailed Demographic Data: Collecting more granular demographic data (age, location, gender) could provide insights into how different consumer groups perceive the products and identify tailored marketing strategies.\n",
        "2. Longitudinal Study of Sentiment Changes: Conduct a more detailed analysis of sentiment changes over time, particularly focusing on how new product releases, marketing campaigns, or external events (like economic downturns) impact consumer perceptions.\n",
        "3. Competitor Analysis: Gather more data on competitor products, including pricing, features, and consumer sentiment. This will help identify gaps in the current product lineup and opportunities for differentiation.\n",
        "4. Review Text Analysis: Perform a deeper textual analysis of customer reviews to identify specific themes or recurring topics (e.g., complaints about battery life, praise for sound quality). This can guide targeted improvements.\n",
        "5. Cross-Platform Sentiment Comparison: Expand the dataset to include reviews and sentiments from multiple platforms (like social media, e-commerce sites, etc.) to provide a more comprehensive view of consumer perception."
      ],
      "metadata": {
        "id": "4IdrhutTRUmp"
      }
    },
    {
      "cell_type": "code",
      "source": [],
      "metadata": {
        "id": "MUuh3TfVhHpm"
      },
      "execution_count": null,
      "outputs": []
    },
    {
      "cell_type": "markdown",
      "source": [
        "## 10. Conclusion\n",
        "Summarize the key findings and their implications, and reflect on the overall project and its contribution to understanding consumer sentiment for Beats by Dre."
      ],
      "metadata": {
        "id": "6LrUwAGHhIsP"
      }
    },
    {
      "cell_type": "markdown",
      "source": [
        "\n",
        "1. Sentiment Analysis:\n",
        "* A majority of reviews are positive, with 72.4% of 5-star and 16.9% of 4-star reviews indicating high customer satisfaction. However, there is a discrepancy between sentiment scores and ratings, suggesting some dissatisfaction that isn't fully captured by sentiment analysis alone.\n",
        "2. Product Rating Trends:\n",
        "* There was notable volatility in product ratings between 2021 and 2023, potentially due to changing consumer expectations or market conditions. The ratings have shown a recovery trend in 2024, suggesting a recent improvement in customer satisfaction.\n",
        "3. Price vs. Rating:\n",
        "* Products in the lower price range ($50-$150) tend to have higher satisfaction rates, suggesting that value for money is a key factor for customers. There is also a slight negative correlation between year and price, indicating that prices might have decreased over time, potentially driving higher satisfaction.\n",
        "\n",
        "Conclusion:\n",
        "\n",
        "The analysis highlights key areas for product improvement and future research to understand consumer sentiment better. It suggests that Beats by Dre could benefit from maintaining quality consistency, enhancing user experience, adopting a targeted pricing strategy, improving customer education and support, and incorporating customer feedback into product development. Future research should focus on detailed demographic data, longitudinal sentiment trends, competitor analysis, deeper review text analysis, and cross-platform sentiment comparisons."
      ],
      "metadata": {
        "id": "qReIJwRNGlbz"
      }
    },
    {
      "cell_type": "code",
      "source": [],
      "metadata": {
        "id": "LJBOImwihKZ_"
      },
      "execution_count": null,
      "outputs": []
    },
    {
      "cell_type": "markdown",
      "source": [
        "## 11. References\n",
        "List all the sources, tools, and references used in the project.\n"
      ],
      "metadata": {
        "id": "olikrWxke3lK"
      }
    },
    {
      "cell_type": "markdown",
      "source": [
        "Sources\n",
        "1. Research Papers:\n",
        "* He, S., et al. (2022). Detecting fake-review buyers using network structure: Direct evidence from Amazon. PNAS, 119(47), e2211932119. https://doi.org/10.1073/pnas.2211932119\n",
        "2. Blog Posts:\n",
        "* Patel, N. (2023). 15 Product Marketing Strategies Proven to Increase Sales. Neil Patel. https://neilpatel.com/blog/product-marketing-strategies/\n",
        "* RJ Audio. (2023, October 3). What are the best features of Bluetooth speakers. RJ Audio. https://www.rjbluetoothspeaker.com/blog/the-best-features-of-bluetooth-speakers/\n",
        "3. User Data:\n",
        "* CSV file with product IDs and reviews scraped from Amazon using GEMINI AI and sentiment analysis data.\n",
        "4. Tools\n",
        "Data Analysis:\n",
        "* Pandas: For data management and analysis.\n",
        "* Python: For processing and analyzing data.\n",
        "* Gemini AI: AI-generated insights.\n",
        "* OxyLABs API: Scrape reviews from Amazon.\n",
        "5. Visualization:\n",
        "* Matplotlib: For creating graphs and plots.\n",
        "* Seaborn: For advanced visualizations like violin plots.\n",
        "6. Sentiment Analysis:\n",
        "* VADER: For sentiment scoring.\n",
        "* TextBlob: For polarity and subjectivity analysis.\n",
        "7. References\n",
        "* Insights on sentiment analysis, marketing strategies, and Bluetooth speaker features were drawn from the sources above, using APA style for citations."
      ],
      "metadata": {
        "id": "yyaKE4Uj9tAu"
      }
    },
    {
      "cell_type": "markdown",
      "source": [],
      "metadata": {
        "id": "4cInQt6pM-Vm"
      }
    },
    {
      "cell_type": "code",
      "source": [],
      "metadata": {
        "id": "7oJ92EnYhMp2"
      },
      "execution_count": null,
      "outputs": []
    }
  ]
}